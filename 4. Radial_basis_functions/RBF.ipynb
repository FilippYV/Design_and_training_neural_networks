{
 "cells": [
  {
   "cell_type": "code",
   "execution_count": 264,
   "metadata": {
    "collapsed": true,
    "ExecuteTime": {
     "end_time": "2023-10-26T15:04:49.768749700Z",
     "start_time": "2023-10-26T15:04:49.749800700Z"
    }
   },
   "outputs": [],
   "source": [
    "import matplotlib.pyplot as plt\n",
    "import numpy as np\n",
    "import random\n",
    "import pandas as pd\n",
    "from icecream import ic"
   ]
  },
  {
   "cell_type": "code",
   "execution_count": 265,
   "outputs": [],
   "source": [
    "data = pd.read_csv('../Datasets/For_RBF/iris.csv')\n",
    "data = data.sample(frac=1, random_state=42).reset_index(drop=True)"
   ],
   "metadata": {
    "collapsed": false,
    "ExecuteTime": {
     "end_time": "2023-10-26T15:04:50.016989900Z",
     "start_time": "2023-10-26T15:04:50.005117900Z"
    }
   }
  },
  {
   "cell_type": "code",
   "execution_count": 266,
   "outputs": [
    {
     "data": {
      "text/plain": "     SepalLengthCm  SepalWidthCm  PetalLengthCm  PetalWidthCm\n0              6.1           2.8            4.7           1.2\n1              5.7           3.8            1.7           0.3\n2              7.7           2.6            6.9           2.3\n3              6.0           2.9            4.5           1.5\n4              6.8           2.8            4.8           1.4\n..             ...           ...            ...           ...\n145            6.1           2.8            4.0           1.3\n146            4.9           2.5            4.5           1.7\n147            5.8           4.0            1.2           0.2\n148            5.8           2.6            4.0           1.2\n149            7.1           3.0            5.9           2.1\n\n[150 rows x 4 columns]",
      "text/html": "<div>\n<style scoped>\n    .dataframe tbody tr th:only-of-type {\n        vertical-align: middle;\n    }\n\n    .dataframe tbody tr th {\n        vertical-align: top;\n    }\n\n    .dataframe thead th {\n        text-align: right;\n    }\n</style>\n<table border=\"1\" class=\"dataframe\">\n  <thead>\n    <tr style=\"text-align: right;\">\n      <th></th>\n      <th>SepalLengthCm</th>\n      <th>SepalWidthCm</th>\n      <th>PetalLengthCm</th>\n      <th>PetalWidthCm</th>\n    </tr>\n  </thead>\n  <tbody>\n    <tr>\n      <th>0</th>\n      <td>6.1</td>\n      <td>2.8</td>\n      <td>4.7</td>\n      <td>1.2</td>\n    </tr>\n    <tr>\n      <th>1</th>\n      <td>5.7</td>\n      <td>3.8</td>\n      <td>1.7</td>\n      <td>0.3</td>\n    </tr>\n    <tr>\n      <th>2</th>\n      <td>7.7</td>\n      <td>2.6</td>\n      <td>6.9</td>\n      <td>2.3</td>\n    </tr>\n    <tr>\n      <th>3</th>\n      <td>6.0</td>\n      <td>2.9</td>\n      <td>4.5</td>\n      <td>1.5</td>\n    </tr>\n    <tr>\n      <th>4</th>\n      <td>6.8</td>\n      <td>2.8</td>\n      <td>4.8</td>\n      <td>1.4</td>\n    </tr>\n    <tr>\n      <th>...</th>\n      <td>...</td>\n      <td>...</td>\n      <td>...</td>\n      <td>...</td>\n    </tr>\n    <tr>\n      <th>145</th>\n      <td>6.1</td>\n      <td>2.8</td>\n      <td>4.0</td>\n      <td>1.3</td>\n    </tr>\n    <tr>\n      <th>146</th>\n      <td>4.9</td>\n      <td>2.5</td>\n      <td>4.5</td>\n      <td>1.7</td>\n    </tr>\n    <tr>\n      <th>147</th>\n      <td>5.8</td>\n      <td>4.0</td>\n      <td>1.2</td>\n      <td>0.2</td>\n    </tr>\n    <tr>\n      <th>148</th>\n      <td>5.8</td>\n      <td>2.6</td>\n      <td>4.0</td>\n      <td>1.2</td>\n    </tr>\n    <tr>\n      <th>149</th>\n      <td>7.1</td>\n      <td>3.0</td>\n      <td>5.9</td>\n      <td>2.1</td>\n    </tr>\n  </tbody>\n</table>\n<p>150 rows × 4 columns</p>\n</div>"
     },
     "execution_count": 266,
     "metadata": {},
     "output_type": "execute_result"
    }
   ],
   "source": [
    "X_train = data.drop(['Species', 'Id'], axis=1)\n",
    "X_train"
   ],
   "metadata": {
    "collapsed": false,
    "ExecuteTime": {
     "end_time": "2023-10-26T15:04:51.629142700Z",
     "start_time": "2023-10-26T15:04:51.603381600Z"
    }
   }
  },
  {
   "cell_type": "code",
   "execution_count": 267,
   "outputs": [
    {
     "data": {
      "text/plain": "     Species\n0        0.0\n1        0.5\n2        1.0\n3        0.0\n4        0.0\n..       ...\n145      0.0\n146      1.0\n147      0.5\n148      0.0\n149      1.0\n\n[150 rows x 1 columns]",
      "text/html": "<div>\n<style scoped>\n    .dataframe tbody tr th:only-of-type {\n        vertical-align: middle;\n    }\n\n    .dataframe tbody tr th {\n        vertical-align: top;\n    }\n\n    .dataframe thead th {\n        text-align: right;\n    }\n</style>\n<table border=\"1\" class=\"dataframe\">\n  <thead>\n    <tr style=\"text-align: right;\">\n      <th></th>\n      <th>Species</th>\n    </tr>\n  </thead>\n  <tbody>\n    <tr>\n      <th>0</th>\n      <td>0.0</td>\n    </tr>\n    <tr>\n      <th>1</th>\n      <td>0.5</td>\n    </tr>\n    <tr>\n      <th>2</th>\n      <td>1.0</td>\n    </tr>\n    <tr>\n      <th>3</th>\n      <td>0.0</td>\n    </tr>\n    <tr>\n      <th>4</th>\n      <td>0.0</td>\n    </tr>\n    <tr>\n      <th>...</th>\n      <td>...</td>\n    </tr>\n    <tr>\n      <th>145</th>\n      <td>0.0</td>\n    </tr>\n    <tr>\n      <th>146</th>\n      <td>1.0</td>\n    </tr>\n    <tr>\n      <th>147</th>\n      <td>0.5</td>\n    </tr>\n    <tr>\n      <th>148</th>\n      <td>0.0</td>\n    </tr>\n    <tr>\n      <th>149</th>\n      <td>1.0</td>\n    </tr>\n  </tbody>\n</table>\n<p>150 rows × 1 columns</p>\n</div>"
     },
     "execution_count": 267,
     "metadata": {},
     "output_type": "execute_result"
    }
   ],
   "source": [
    "y_train = pd.DataFrame(data['Species'])\n",
    "y_train['Species'] = pd.factorize(data['Species'])[0]\n",
    "y_train = (y_train - y_train.min()) / (y_train.max() - y_train.min())  # нормализация\n",
    "y_train"
   ],
   "metadata": {
    "collapsed": false,
    "ExecuteTime": {
     "end_time": "2023-10-26T15:04:51.815726Z",
     "start_time": "2023-10-26T15:04:51.802608100Z"
    }
   }
  },
  {
   "cell_type": "code",
   "execution_count": 268,
   "outputs": [
    {
     "data": {
      "text/plain": "    sepal length  sepal width  petal length  petal width\n0            5.8          2.8           5.1          2.4\n1            5.9          3.2           4.8          1.8\n2            6.0          3.0           4.8          1.8\n3            5.2          2.7           3.9          1.4\n4            5.1          3.8           1.9          0.4\n5            7.2          3.2           6.0          1.8\n6            5.5          3.5           1.3          0.2\n7            6.9          3.1           5.1          2.3\n8            4.8          3.0           1.4          0.1\n9            6.1          2.9           4.7          1.4\n10           4.9          2.5           4.5          1.7\n11           5.7          2.9           4.2          1.3\n12           6.3          2.9           5.6          1.8\n13           4.6          3.6           1.0          0.2\n14           5.0          3.4           1.6          0.4\n15           6.5          3.0           5.8          2.2\n16           5.4          3.0           4.5          1.5\n17           5.2          4.1           1.5          0.1\n18           5.7          3.8           1.7          0.3\n19           5.8          2.7           4.1          1.0\n20           5.5          2.3           4.0          1.3\n21           6.4          3.1           5.5          1.8\n22           5.5          4.2           1.4          0.2\n23           4.6          3.4           1.4          0.3\n24           5.0          2.0           3.5          1.0\n25           4.7          3.2           1.6          0.2\n26           5.4          3.9           1.3          0.4\n27           6.0          2.7           5.1          1.6\n28           5.7          4.4           1.5          0.4\n29           4.7          3.2           1.3          0.2\n30           5.7          3.0           4.2          1.2\n31           6.9          3.1           4.9          1.5\n32           5.5          2.6           4.4          1.2\n33           5.5          2.4           3.7          1.0\n34           5.8          2.7           5.1          1.9\n35           5.8          2.6           4.0          1.2\n36           7.2          3.0           5.8          1.6\n37           6.1          2.8           4.0          1.3\n38           6.7          2.5           5.8          1.8\n39           6.8          3.2           5.9          2.3\n40           5.4          3.9           1.7          0.4\n41           6.3          3.3           4.7          1.6\n42           7.1          3.0           5.9          2.1\n43           6.2          2.9           4.3          1.3\n44           6.0          2.9           4.5          1.5\n45           6.4          2.8           5.6          2.1\n46           5.7          2.8           4.1          1.3\n47           7.9          3.8           6.4          2.0\n48           4.4          2.9           1.4          0.2\n49           6.5          2.8           4.6          1.5",
      "text/html": "<div>\n<style scoped>\n    .dataframe tbody tr th:only-of-type {\n        vertical-align: middle;\n    }\n\n    .dataframe tbody tr th {\n        vertical-align: top;\n    }\n\n    .dataframe thead th {\n        text-align: right;\n    }\n</style>\n<table border=\"1\" class=\"dataframe\">\n  <thead>\n    <tr style=\"text-align: right;\">\n      <th></th>\n      <th>sepal length</th>\n      <th>sepal width</th>\n      <th>petal length</th>\n      <th>petal width</th>\n    </tr>\n  </thead>\n  <tbody>\n    <tr>\n      <th>0</th>\n      <td>5.8</td>\n      <td>2.8</td>\n      <td>5.1</td>\n      <td>2.4</td>\n    </tr>\n    <tr>\n      <th>1</th>\n      <td>5.9</td>\n      <td>3.2</td>\n      <td>4.8</td>\n      <td>1.8</td>\n    </tr>\n    <tr>\n      <th>2</th>\n      <td>6.0</td>\n      <td>3.0</td>\n      <td>4.8</td>\n      <td>1.8</td>\n    </tr>\n    <tr>\n      <th>3</th>\n      <td>5.2</td>\n      <td>2.7</td>\n      <td>3.9</td>\n      <td>1.4</td>\n    </tr>\n    <tr>\n      <th>4</th>\n      <td>5.1</td>\n      <td>3.8</td>\n      <td>1.9</td>\n      <td>0.4</td>\n    </tr>\n    <tr>\n      <th>5</th>\n      <td>7.2</td>\n      <td>3.2</td>\n      <td>6.0</td>\n      <td>1.8</td>\n    </tr>\n    <tr>\n      <th>6</th>\n      <td>5.5</td>\n      <td>3.5</td>\n      <td>1.3</td>\n      <td>0.2</td>\n    </tr>\n    <tr>\n      <th>7</th>\n      <td>6.9</td>\n      <td>3.1</td>\n      <td>5.1</td>\n      <td>2.3</td>\n    </tr>\n    <tr>\n      <th>8</th>\n      <td>4.8</td>\n      <td>3.0</td>\n      <td>1.4</td>\n      <td>0.1</td>\n    </tr>\n    <tr>\n      <th>9</th>\n      <td>6.1</td>\n      <td>2.9</td>\n      <td>4.7</td>\n      <td>1.4</td>\n    </tr>\n    <tr>\n      <th>10</th>\n      <td>4.9</td>\n      <td>2.5</td>\n      <td>4.5</td>\n      <td>1.7</td>\n    </tr>\n    <tr>\n      <th>11</th>\n      <td>5.7</td>\n      <td>2.9</td>\n      <td>4.2</td>\n      <td>1.3</td>\n    </tr>\n    <tr>\n      <th>12</th>\n      <td>6.3</td>\n      <td>2.9</td>\n      <td>5.6</td>\n      <td>1.8</td>\n    </tr>\n    <tr>\n      <th>13</th>\n      <td>4.6</td>\n      <td>3.6</td>\n      <td>1.0</td>\n      <td>0.2</td>\n    </tr>\n    <tr>\n      <th>14</th>\n      <td>5.0</td>\n      <td>3.4</td>\n      <td>1.6</td>\n      <td>0.4</td>\n    </tr>\n    <tr>\n      <th>15</th>\n      <td>6.5</td>\n      <td>3.0</td>\n      <td>5.8</td>\n      <td>2.2</td>\n    </tr>\n    <tr>\n      <th>16</th>\n      <td>5.4</td>\n      <td>3.0</td>\n      <td>4.5</td>\n      <td>1.5</td>\n    </tr>\n    <tr>\n      <th>17</th>\n      <td>5.2</td>\n      <td>4.1</td>\n      <td>1.5</td>\n      <td>0.1</td>\n    </tr>\n    <tr>\n      <th>18</th>\n      <td>5.7</td>\n      <td>3.8</td>\n      <td>1.7</td>\n      <td>0.3</td>\n    </tr>\n    <tr>\n      <th>19</th>\n      <td>5.8</td>\n      <td>2.7</td>\n      <td>4.1</td>\n      <td>1.0</td>\n    </tr>\n    <tr>\n      <th>20</th>\n      <td>5.5</td>\n      <td>2.3</td>\n      <td>4.0</td>\n      <td>1.3</td>\n    </tr>\n    <tr>\n      <th>21</th>\n      <td>6.4</td>\n      <td>3.1</td>\n      <td>5.5</td>\n      <td>1.8</td>\n    </tr>\n    <tr>\n      <th>22</th>\n      <td>5.5</td>\n      <td>4.2</td>\n      <td>1.4</td>\n      <td>0.2</td>\n    </tr>\n    <tr>\n      <th>23</th>\n      <td>4.6</td>\n      <td>3.4</td>\n      <td>1.4</td>\n      <td>0.3</td>\n    </tr>\n    <tr>\n      <th>24</th>\n      <td>5.0</td>\n      <td>2.0</td>\n      <td>3.5</td>\n      <td>1.0</td>\n    </tr>\n    <tr>\n      <th>25</th>\n      <td>4.7</td>\n      <td>3.2</td>\n      <td>1.6</td>\n      <td>0.2</td>\n    </tr>\n    <tr>\n      <th>26</th>\n      <td>5.4</td>\n      <td>3.9</td>\n      <td>1.3</td>\n      <td>0.4</td>\n    </tr>\n    <tr>\n      <th>27</th>\n      <td>6.0</td>\n      <td>2.7</td>\n      <td>5.1</td>\n      <td>1.6</td>\n    </tr>\n    <tr>\n      <th>28</th>\n      <td>5.7</td>\n      <td>4.4</td>\n      <td>1.5</td>\n      <td>0.4</td>\n    </tr>\n    <tr>\n      <th>29</th>\n      <td>4.7</td>\n      <td>3.2</td>\n      <td>1.3</td>\n      <td>0.2</td>\n    </tr>\n    <tr>\n      <th>30</th>\n      <td>5.7</td>\n      <td>3.0</td>\n      <td>4.2</td>\n      <td>1.2</td>\n    </tr>\n    <tr>\n      <th>31</th>\n      <td>6.9</td>\n      <td>3.1</td>\n      <td>4.9</td>\n      <td>1.5</td>\n    </tr>\n    <tr>\n      <th>32</th>\n      <td>5.5</td>\n      <td>2.6</td>\n      <td>4.4</td>\n      <td>1.2</td>\n    </tr>\n    <tr>\n      <th>33</th>\n      <td>5.5</td>\n      <td>2.4</td>\n      <td>3.7</td>\n      <td>1.0</td>\n    </tr>\n    <tr>\n      <th>34</th>\n      <td>5.8</td>\n      <td>2.7</td>\n      <td>5.1</td>\n      <td>1.9</td>\n    </tr>\n    <tr>\n      <th>35</th>\n      <td>5.8</td>\n      <td>2.6</td>\n      <td>4.0</td>\n      <td>1.2</td>\n    </tr>\n    <tr>\n      <th>36</th>\n      <td>7.2</td>\n      <td>3.0</td>\n      <td>5.8</td>\n      <td>1.6</td>\n    </tr>\n    <tr>\n      <th>37</th>\n      <td>6.1</td>\n      <td>2.8</td>\n      <td>4.0</td>\n      <td>1.3</td>\n    </tr>\n    <tr>\n      <th>38</th>\n      <td>6.7</td>\n      <td>2.5</td>\n      <td>5.8</td>\n      <td>1.8</td>\n    </tr>\n    <tr>\n      <th>39</th>\n      <td>6.8</td>\n      <td>3.2</td>\n      <td>5.9</td>\n      <td>2.3</td>\n    </tr>\n    <tr>\n      <th>40</th>\n      <td>5.4</td>\n      <td>3.9</td>\n      <td>1.7</td>\n      <td>0.4</td>\n    </tr>\n    <tr>\n      <th>41</th>\n      <td>6.3</td>\n      <td>3.3</td>\n      <td>4.7</td>\n      <td>1.6</td>\n    </tr>\n    <tr>\n      <th>42</th>\n      <td>7.1</td>\n      <td>3.0</td>\n      <td>5.9</td>\n      <td>2.1</td>\n    </tr>\n    <tr>\n      <th>43</th>\n      <td>6.2</td>\n      <td>2.9</td>\n      <td>4.3</td>\n      <td>1.3</td>\n    </tr>\n    <tr>\n      <th>44</th>\n      <td>6.0</td>\n      <td>2.9</td>\n      <td>4.5</td>\n      <td>1.5</td>\n    </tr>\n    <tr>\n      <th>45</th>\n      <td>6.4</td>\n      <td>2.8</td>\n      <td>5.6</td>\n      <td>2.1</td>\n    </tr>\n    <tr>\n      <th>46</th>\n      <td>5.7</td>\n      <td>2.8</td>\n      <td>4.1</td>\n      <td>1.3</td>\n    </tr>\n    <tr>\n      <th>47</th>\n      <td>7.9</td>\n      <td>3.8</td>\n      <td>6.4</td>\n      <td>2.0</td>\n    </tr>\n    <tr>\n      <th>48</th>\n      <td>4.4</td>\n      <td>2.9</td>\n      <td>1.4</td>\n      <td>0.2</td>\n    </tr>\n    <tr>\n      <th>49</th>\n      <td>6.5</td>\n      <td>2.8</td>\n      <td>4.6</td>\n      <td>1.5</td>\n    </tr>\n  </tbody>\n</table>\n</div>"
     },
     "execution_count": 268,
     "metadata": {},
     "output_type": "execute_result"
    }
   ],
   "source": [
    "X_test = pd.read_csv('../Datasets/For_RBF/test_iris.csv')\n",
    "X_test = X_test.drop(['species','Unnamed: 0'], axis=1)\n",
    "X_test"
   ],
   "metadata": {
    "collapsed": false,
    "ExecuteTime": {
     "end_time": "2023-10-26T15:04:52.003312Z",
     "start_time": "2023-10-26T15:04:51.988352200Z"
    }
   }
  },
  {
   "cell_type": "code",
   "execution_count": 269,
   "outputs": [
    {
     "data": {
      "text/plain": "    species\n0       0.0\n1       0.5\n2       0.0\n3       0.5\n4       1.0\n5       0.0\n6       1.0\n7       0.0\n8       1.0\n9       0.5\n10      0.0\n11      0.5\n12      0.0\n13      1.0\n14      1.0\n15      0.0\n16      0.5\n17      1.0\n18      1.0\n19      0.5\n20      0.5\n21      0.0\n22      1.0\n23      1.0\n24      0.5\n25      1.0\n26      1.0\n27      0.5\n28      1.0\n29      1.0\n30      0.5\n31      0.5\n32      0.5\n33      0.5\n34      0.0\n35      0.5\n36      0.0\n37      0.5\n38      0.0\n39      0.0\n40      1.0\n41      0.5\n42      0.0\n43      0.5\n44      0.5\n45      0.0\n46      0.5\n47      0.0\n48      1.0\n49      0.5",
      "text/html": "<div>\n<style scoped>\n    .dataframe tbody tr th:only-of-type {\n        vertical-align: middle;\n    }\n\n    .dataframe tbody tr th {\n        vertical-align: top;\n    }\n\n    .dataframe thead th {\n        text-align: right;\n    }\n</style>\n<table border=\"1\" class=\"dataframe\">\n  <thead>\n    <tr style=\"text-align: right;\">\n      <th></th>\n      <th>species</th>\n    </tr>\n  </thead>\n  <tbody>\n    <tr>\n      <th>0</th>\n      <td>0.0</td>\n    </tr>\n    <tr>\n      <th>1</th>\n      <td>0.5</td>\n    </tr>\n    <tr>\n      <th>2</th>\n      <td>0.0</td>\n    </tr>\n    <tr>\n      <th>3</th>\n      <td>0.5</td>\n    </tr>\n    <tr>\n      <th>4</th>\n      <td>1.0</td>\n    </tr>\n    <tr>\n      <th>5</th>\n      <td>0.0</td>\n    </tr>\n    <tr>\n      <th>6</th>\n      <td>1.0</td>\n    </tr>\n    <tr>\n      <th>7</th>\n      <td>0.0</td>\n    </tr>\n    <tr>\n      <th>8</th>\n      <td>1.0</td>\n    </tr>\n    <tr>\n      <th>9</th>\n      <td>0.5</td>\n    </tr>\n    <tr>\n      <th>10</th>\n      <td>0.0</td>\n    </tr>\n    <tr>\n      <th>11</th>\n      <td>0.5</td>\n    </tr>\n    <tr>\n      <th>12</th>\n      <td>0.0</td>\n    </tr>\n    <tr>\n      <th>13</th>\n      <td>1.0</td>\n    </tr>\n    <tr>\n      <th>14</th>\n      <td>1.0</td>\n    </tr>\n    <tr>\n      <th>15</th>\n      <td>0.0</td>\n    </tr>\n    <tr>\n      <th>16</th>\n      <td>0.5</td>\n    </tr>\n    <tr>\n      <th>17</th>\n      <td>1.0</td>\n    </tr>\n    <tr>\n      <th>18</th>\n      <td>1.0</td>\n    </tr>\n    <tr>\n      <th>19</th>\n      <td>0.5</td>\n    </tr>\n    <tr>\n      <th>20</th>\n      <td>0.5</td>\n    </tr>\n    <tr>\n      <th>21</th>\n      <td>0.0</td>\n    </tr>\n    <tr>\n      <th>22</th>\n      <td>1.0</td>\n    </tr>\n    <tr>\n      <th>23</th>\n      <td>1.0</td>\n    </tr>\n    <tr>\n      <th>24</th>\n      <td>0.5</td>\n    </tr>\n    <tr>\n      <th>25</th>\n      <td>1.0</td>\n    </tr>\n    <tr>\n      <th>26</th>\n      <td>1.0</td>\n    </tr>\n    <tr>\n      <th>27</th>\n      <td>0.5</td>\n    </tr>\n    <tr>\n      <th>28</th>\n      <td>1.0</td>\n    </tr>\n    <tr>\n      <th>29</th>\n      <td>1.0</td>\n    </tr>\n    <tr>\n      <th>30</th>\n      <td>0.5</td>\n    </tr>\n    <tr>\n      <th>31</th>\n      <td>0.5</td>\n    </tr>\n    <tr>\n      <th>32</th>\n      <td>0.5</td>\n    </tr>\n    <tr>\n      <th>33</th>\n      <td>0.5</td>\n    </tr>\n    <tr>\n      <th>34</th>\n      <td>0.0</td>\n    </tr>\n    <tr>\n      <th>35</th>\n      <td>0.5</td>\n    </tr>\n    <tr>\n      <th>36</th>\n      <td>0.0</td>\n    </tr>\n    <tr>\n      <th>37</th>\n      <td>0.5</td>\n    </tr>\n    <tr>\n      <th>38</th>\n      <td>0.0</td>\n    </tr>\n    <tr>\n      <th>39</th>\n      <td>0.0</td>\n    </tr>\n    <tr>\n      <th>40</th>\n      <td>1.0</td>\n    </tr>\n    <tr>\n      <th>41</th>\n      <td>0.5</td>\n    </tr>\n    <tr>\n      <th>42</th>\n      <td>0.0</td>\n    </tr>\n    <tr>\n      <th>43</th>\n      <td>0.5</td>\n    </tr>\n    <tr>\n      <th>44</th>\n      <td>0.5</td>\n    </tr>\n    <tr>\n      <th>45</th>\n      <td>0.0</td>\n    </tr>\n    <tr>\n      <th>46</th>\n      <td>0.5</td>\n    </tr>\n    <tr>\n      <th>47</th>\n      <td>0.0</td>\n    </tr>\n    <tr>\n      <th>48</th>\n      <td>1.0</td>\n    </tr>\n    <tr>\n      <th>49</th>\n      <td>0.5</td>\n    </tr>\n  </tbody>\n</table>\n</div>"
     },
     "execution_count": 269,
     "metadata": {},
     "output_type": "execute_result"
    }
   ],
   "source": [
    "y_test = pd.read_csv('../Datasets/For_RBF/test_iris.csv')\n",
    "y_test = y_test.drop(['Unnamed: 0', 'petal length','petal width','sepal length','sepal width'],axis=1)\n",
    "y_test['species'] = pd.factorize(y_test['species'])[0]\n",
    "y_test = (y_test - y_test.min()) / (y_test.max() - y_test.min())  # нормализация\n",
    "y_test"
   ],
   "metadata": {
    "collapsed": false,
    "ExecuteTime": {
     "end_time": "2023-10-26T15:04:52.183926500Z",
     "start_time": "2023-10-26T15:04:52.172957Z"
    }
   }
  },
  {
   "cell_type": "code",
   "execution_count": 287,
   "outputs": [
    {
     "name": "stderr",
     "output_type": "stream",
     "text": [
      "ic| y.loc[i].values: array([0.])\n",
      "ic| prediction: 0.7164502717908604\n",
      "ic| self.weights: [0.9617383074995487, 0.9617383074995487, 0.9617383074995487]\n",
      "ic| self.weights: array([0.96173409, 0.9564057 , 0.96173791])\n"
     ]
    },
    {
     "data": {
      "text/plain": "    species    y_pred\n0       0.0  0.277646\n1       0.5  0.566742\n2       0.0  0.589233\n3       0.5  0.817369\n4       1.0  1.236716\n5       0.0  0.029071\n6       1.0  1.397536\n7       0.0  0.133810\n8       1.0  1.594218\n9       0.5  0.708418\n10      0.0  0.533854\n11      0.5  0.950764\n12      0.0  0.193279\n13      1.0  1.727884\n14      1.0  1.614804\n15      0.0  0.083329\n16      0.5  0.797551\n17      1.0  1.246799\n18      1.0  0.977696\n19      0.5  0.907099\n20      0.5  0.815647\n21      0.0  0.202091\n22      1.0  0.993936\n23      1.0  1.729438\n24      0.5  0.423617\n25      1.0  1.613246\n26      1.0  1.299397\n27      0.5  0.492904\n28      1.0  0.658026\n29      1.0  1.739836\n30      0.5  0.930780\n31      0.5  0.279233\n32      0.5  0.867884\n33      0.5  0.767192\n34      0.0  0.443378\n35      0.5  0.927552\n36      0.0  0.050750\n37      0.5  0.875651\n38      0.0  0.090593\n39      0.0  0.041992\n40      1.0  1.158069\n41      0.5  0.530167\n42      0.0  0.036127\n43      0.5  0.811250\n44      0.5  0.810222\n45      0.0  0.145470\n46      0.5  0.962820\n47      0.0  0.001475\n48      1.0  1.377860\n49      0.5  0.569983",
      "text/html": "<div>\n<style scoped>\n    .dataframe tbody tr th:only-of-type {\n        vertical-align: middle;\n    }\n\n    .dataframe tbody tr th {\n        vertical-align: top;\n    }\n\n    .dataframe thead th {\n        text-align: right;\n    }\n</style>\n<table border=\"1\" class=\"dataframe\">\n  <thead>\n    <tr style=\"text-align: right;\">\n      <th></th>\n      <th>species</th>\n      <th>y_pred</th>\n    </tr>\n  </thead>\n  <tbody>\n    <tr>\n      <th>0</th>\n      <td>0.0</td>\n      <td>0.277646</td>\n    </tr>\n    <tr>\n      <th>1</th>\n      <td>0.5</td>\n      <td>0.566742</td>\n    </tr>\n    <tr>\n      <th>2</th>\n      <td>0.0</td>\n      <td>0.589233</td>\n    </tr>\n    <tr>\n      <th>3</th>\n      <td>0.5</td>\n      <td>0.817369</td>\n    </tr>\n    <tr>\n      <th>4</th>\n      <td>1.0</td>\n      <td>1.236716</td>\n    </tr>\n    <tr>\n      <th>5</th>\n      <td>0.0</td>\n      <td>0.029071</td>\n    </tr>\n    <tr>\n      <th>6</th>\n      <td>1.0</td>\n      <td>1.397536</td>\n    </tr>\n    <tr>\n      <th>7</th>\n      <td>0.0</td>\n      <td>0.133810</td>\n    </tr>\n    <tr>\n      <th>8</th>\n      <td>1.0</td>\n      <td>1.594218</td>\n    </tr>\n    <tr>\n      <th>9</th>\n      <td>0.5</td>\n      <td>0.708418</td>\n    </tr>\n    <tr>\n      <th>10</th>\n      <td>0.0</td>\n      <td>0.533854</td>\n    </tr>\n    <tr>\n      <th>11</th>\n      <td>0.5</td>\n      <td>0.950764</td>\n    </tr>\n    <tr>\n      <th>12</th>\n      <td>0.0</td>\n      <td>0.193279</td>\n    </tr>\n    <tr>\n      <th>13</th>\n      <td>1.0</td>\n      <td>1.727884</td>\n    </tr>\n    <tr>\n      <th>14</th>\n      <td>1.0</td>\n      <td>1.614804</td>\n    </tr>\n    <tr>\n      <th>15</th>\n      <td>0.0</td>\n      <td>0.083329</td>\n    </tr>\n    <tr>\n      <th>16</th>\n      <td>0.5</td>\n      <td>0.797551</td>\n    </tr>\n    <tr>\n      <th>17</th>\n      <td>1.0</td>\n      <td>1.246799</td>\n    </tr>\n    <tr>\n      <th>18</th>\n      <td>1.0</td>\n      <td>0.977696</td>\n    </tr>\n    <tr>\n      <th>19</th>\n      <td>0.5</td>\n      <td>0.907099</td>\n    </tr>\n    <tr>\n      <th>20</th>\n      <td>0.5</td>\n      <td>0.815647</td>\n    </tr>\n    <tr>\n      <th>21</th>\n      <td>0.0</td>\n      <td>0.202091</td>\n    </tr>\n    <tr>\n      <th>22</th>\n      <td>1.0</td>\n      <td>0.993936</td>\n    </tr>\n    <tr>\n      <th>23</th>\n      <td>1.0</td>\n      <td>1.729438</td>\n    </tr>\n    <tr>\n      <th>24</th>\n      <td>0.5</td>\n      <td>0.423617</td>\n    </tr>\n    <tr>\n      <th>25</th>\n      <td>1.0</td>\n      <td>1.613246</td>\n    </tr>\n    <tr>\n      <th>26</th>\n      <td>1.0</td>\n      <td>1.299397</td>\n    </tr>\n    <tr>\n      <th>27</th>\n      <td>0.5</td>\n      <td>0.492904</td>\n    </tr>\n    <tr>\n      <th>28</th>\n      <td>1.0</td>\n      <td>0.658026</td>\n    </tr>\n    <tr>\n      <th>29</th>\n      <td>1.0</td>\n      <td>1.739836</td>\n    </tr>\n    <tr>\n      <th>30</th>\n      <td>0.5</td>\n      <td>0.930780</td>\n    </tr>\n    <tr>\n      <th>31</th>\n      <td>0.5</td>\n      <td>0.279233</td>\n    </tr>\n    <tr>\n      <th>32</th>\n      <td>0.5</td>\n      <td>0.867884</td>\n    </tr>\n    <tr>\n      <th>33</th>\n      <td>0.5</td>\n      <td>0.767192</td>\n    </tr>\n    <tr>\n      <th>34</th>\n      <td>0.0</td>\n      <td>0.443378</td>\n    </tr>\n    <tr>\n      <th>35</th>\n      <td>0.5</td>\n      <td>0.927552</td>\n    </tr>\n    <tr>\n      <th>36</th>\n      <td>0.0</td>\n      <td>0.050750</td>\n    </tr>\n    <tr>\n      <th>37</th>\n      <td>0.5</td>\n      <td>0.875651</td>\n    </tr>\n    <tr>\n      <th>38</th>\n      <td>0.0</td>\n      <td>0.090593</td>\n    </tr>\n    <tr>\n      <th>39</th>\n      <td>0.0</td>\n      <td>0.041992</td>\n    </tr>\n    <tr>\n      <th>40</th>\n      <td>1.0</td>\n      <td>1.158069</td>\n    </tr>\n    <tr>\n      <th>41</th>\n      <td>0.5</td>\n      <td>0.530167</td>\n    </tr>\n    <tr>\n      <th>42</th>\n      <td>0.0</td>\n      <td>0.036127</td>\n    </tr>\n    <tr>\n      <th>43</th>\n      <td>0.5</td>\n      <td>0.811250</td>\n    </tr>\n    <tr>\n      <th>44</th>\n      <td>0.5</td>\n      <td>0.810222</td>\n    </tr>\n    <tr>\n      <th>45</th>\n      <td>0.0</td>\n      <td>0.145470</td>\n    </tr>\n    <tr>\n      <th>46</th>\n      <td>0.5</td>\n      <td>0.962820</td>\n    </tr>\n    <tr>\n      <th>47</th>\n      <td>0.0</td>\n      <td>0.001475</td>\n    </tr>\n    <tr>\n      <th>48</th>\n      <td>1.0</td>\n      <td>1.377860</td>\n    </tr>\n    <tr>\n      <th>49</th>\n      <td>0.5</td>\n      <td>0.569983</td>\n    </tr>\n  </tbody>\n</table>\n</div>"
     },
     "execution_count": 287,
     "metadata": {},
     "output_type": "execute_result"
    }
   ],
   "source": [
    "def rbf_function(x, c, s):\n",
    "    return np.exp(-1 / (2 * s ** 2) * (x - c) ** 2)\n",
    "\n",
    "\n",
    "class RBFNetwork:\n",
    "    def __init__(self, k, learning_rate, epochs):\n",
    "        self.k = k\n",
    "        self.learning_rate = learning_rate\n",
    "        self.epochs = epochs\n",
    "\n",
    "    def train(self, X, y):\n",
    "        self.centers = X.values[np.random.choice(X.shape[0], self.k, replace=False)]\n",
    "        self.sigma = X.std().mean()\n",
    "        self.weights = [random.uniform(0, 1)] * self.k\n",
    "        for i in range(X.shape[0]):\n",
    "            distances = np.linalg.norm(X.loc[i].values - self.centers, axis=1)  # отклонение\n",
    "            phi = rbf_function(distances, 0, self.sigma)\n",
    "\n",
    "            prediction = phi.dot(self.weights)\n",
    "            ic(y.loc[i].values)\n",
    "            ic(prediction)\n",
    "            ic(self.weights )\n",
    "            self.weights += self.learning_rate * (y.loc[i].values - prediction) * phi\n",
    "            ic(self.weights )\n",
    "            break\n",
    "\n",
    "\n",
    "\n",
    "    def predict(self, X):\n",
    "        y_pred = []\n",
    "        for i in range(X.shape[0]):\n",
    "            distances = np.linalg.norm(X.loc[i].values - self.centers, axis=1)\n",
    "            phi = rbf_function(distances, 0, self.sigma)\n",
    "            prediction = phi.dot(self.weights)\n",
    "            y_pred.append(prediction)\n",
    "        return y_pred\n",
    "\n",
    "\n",
    "rbf_network = RBFNetwork(k=3, learning_rate=0.01, epochs=1000)\n",
    "rbf_network.train(X=X_train, y=y_train)\n",
    "y_test['y_pred'] = rbf_network.predict(X=X_test)\n",
    "y_test\n",
    "\n"
   ],
   "metadata": {
    "collapsed": false,
    "ExecuteTime": {
     "end_time": "2023-10-26T15:06:24.263376700Z",
     "start_time": "2023-10-26T15:06:24.210632700Z"
    }
   }
  },
  {
   "cell_type": "code",
   "execution_count": 370,
   "outputs": [
    {
     "name": "stderr",
     "output_type": "stream",
     "text": [
      "ic| y.loc[i].values: array([0.])\n",
      "ic| prediction: 0.13188160022489978\n",
      "ic| self.weights: [0.187187197136172, 0.187187197136172, 0.187187197136172]\n",
      "ic| self.weights: array([0.18718629, 0.18568468, 0.1868323 ])\n"
     ]
    },
    {
     "data": {
      "text/plain": "    species    y_pred\n0       0.0  0.045903\n1       0.5  0.101075\n2       0.0  0.110215\n3       0.5  0.146916\n4       1.0  0.145849\n5       0.0  0.064863\n6       1.0  0.123132\n7       0.0  0.107942\n8       1.0  0.176722\n9       0.5  0.134878\n10      0.0  0.074833\n11      0.5  0.129105\n12      0.0  0.080296\n13      1.0  0.169445\n14      1.0  0.183974\n15      0.0  0.056863\n16      0.5  0.094541\n17      1.0  0.117113\n18      1.0  0.091206\n19      0.5  0.134254\n20      0.5  0.136399\n21      0.0  0.098670\n22      1.0  0.085370\n23      1.0  0.197561\n24      0.5  0.173624\n25      1.0  0.194958\n26      1.0  0.116859\n27      0.5  0.094970\n28      1.0  0.055991\n29      1.0  0.189675\n30      0.5  0.127608\n31      0.5  0.181786\n32      0.5  0.115202\n33      0.5  0.162009\n34      0.0  0.069484\n35      0.5  0.138163\n36      0.0  0.088703\n37      0.5  0.137896\n38      0.0  0.063308\n39      0.0  0.051997\n40      1.0  0.117073\n41      0.5  0.148432\n42      0.0  0.061734\n43      0.5  0.147203\n44      0.5  0.130802\n45      0.0  0.068662\n46      0.5  0.134329\n47      0.0  0.015823\n48      1.0  0.171623\n49      0.5  0.160083",
      "text/html": "<div>\n<style scoped>\n    .dataframe tbody tr th:only-of-type {\n        vertical-align: middle;\n    }\n\n    .dataframe tbody tr th {\n        vertical-align: top;\n    }\n\n    .dataframe thead th {\n        text-align: right;\n    }\n</style>\n<table border=\"1\" class=\"dataframe\">\n  <thead>\n    <tr style=\"text-align: right;\">\n      <th></th>\n      <th>species</th>\n      <th>y_pred</th>\n    </tr>\n  </thead>\n  <tbody>\n    <tr>\n      <th>0</th>\n      <td>0.0</td>\n      <td>0.045903</td>\n    </tr>\n    <tr>\n      <th>1</th>\n      <td>0.5</td>\n      <td>0.101075</td>\n    </tr>\n    <tr>\n      <th>2</th>\n      <td>0.0</td>\n      <td>0.110215</td>\n    </tr>\n    <tr>\n      <th>3</th>\n      <td>0.5</td>\n      <td>0.146916</td>\n    </tr>\n    <tr>\n      <th>4</th>\n      <td>1.0</td>\n      <td>0.145849</td>\n    </tr>\n    <tr>\n      <th>5</th>\n      <td>0.0</td>\n      <td>0.064863</td>\n    </tr>\n    <tr>\n      <th>6</th>\n      <td>1.0</td>\n      <td>0.123132</td>\n    </tr>\n    <tr>\n      <th>7</th>\n      <td>0.0</td>\n      <td>0.107942</td>\n    </tr>\n    <tr>\n      <th>8</th>\n      <td>1.0</td>\n      <td>0.176722</td>\n    </tr>\n    <tr>\n      <th>9</th>\n      <td>0.5</td>\n      <td>0.134878</td>\n    </tr>\n    <tr>\n      <th>10</th>\n      <td>0.0</td>\n      <td>0.074833</td>\n    </tr>\n    <tr>\n      <th>11</th>\n      <td>0.5</td>\n      <td>0.129105</td>\n    </tr>\n    <tr>\n      <th>12</th>\n      <td>0.0</td>\n      <td>0.080296</td>\n    </tr>\n    <tr>\n      <th>13</th>\n      <td>1.0</td>\n      <td>0.169445</td>\n    </tr>\n    <tr>\n      <th>14</th>\n      <td>1.0</td>\n      <td>0.183974</td>\n    </tr>\n    <tr>\n      <th>15</th>\n      <td>0.0</td>\n      <td>0.056863</td>\n    </tr>\n    <tr>\n      <th>16</th>\n      <td>0.5</td>\n      <td>0.094541</td>\n    </tr>\n    <tr>\n      <th>17</th>\n      <td>1.0</td>\n      <td>0.117113</td>\n    </tr>\n    <tr>\n      <th>18</th>\n      <td>1.0</td>\n      <td>0.091206</td>\n    </tr>\n    <tr>\n      <th>19</th>\n      <td>0.5</td>\n      <td>0.134254</td>\n    </tr>\n    <tr>\n      <th>20</th>\n      <td>0.5</td>\n      <td>0.136399</td>\n    </tr>\n    <tr>\n      <th>21</th>\n      <td>0.0</td>\n      <td>0.098670</td>\n    </tr>\n    <tr>\n      <th>22</th>\n      <td>1.0</td>\n      <td>0.085370</td>\n    </tr>\n    <tr>\n      <th>23</th>\n      <td>1.0</td>\n      <td>0.197561</td>\n    </tr>\n    <tr>\n      <th>24</th>\n      <td>0.5</td>\n      <td>0.173624</td>\n    </tr>\n    <tr>\n      <th>25</th>\n      <td>1.0</td>\n      <td>0.194958</td>\n    </tr>\n    <tr>\n      <th>26</th>\n      <td>1.0</td>\n      <td>0.116859</td>\n    </tr>\n    <tr>\n      <th>27</th>\n      <td>0.5</td>\n      <td>0.094970</td>\n    </tr>\n    <tr>\n      <th>28</th>\n      <td>1.0</td>\n      <td>0.055991</td>\n    </tr>\n    <tr>\n      <th>29</th>\n      <td>1.0</td>\n      <td>0.189675</td>\n    </tr>\n    <tr>\n      <th>30</th>\n      <td>0.5</td>\n      <td>0.127608</td>\n    </tr>\n    <tr>\n      <th>31</th>\n      <td>0.5</td>\n      <td>0.181786</td>\n    </tr>\n    <tr>\n      <th>32</th>\n      <td>0.5</td>\n      <td>0.115202</td>\n    </tr>\n    <tr>\n      <th>33</th>\n      <td>0.5</td>\n      <td>0.162009</td>\n    </tr>\n    <tr>\n      <th>34</th>\n      <td>0.0</td>\n      <td>0.069484</td>\n    </tr>\n    <tr>\n      <th>35</th>\n      <td>0.5</td>\n      <td>0.138163</td>\n    </tr>\n    <tr>\n      <th>36</th>\n      <td>0.0</td>\n      <td>0.088703</td>\n    </tr>\n    <tr>\n      <th>37</th>\n      <td>0.5</td>\n      <td>0.137896</td>\n    </tr>\n    <tr>\n      <th>38</th>\n      <td>0.0</td>\n      <td>0.063308</td>\n    </tr>\n    <tr>\n      <th>39</th>\n      <td>0.0</td>\n      <td>0.051997</td>\n    </tr>\n    <tr>\n      <th>40</th>\n      <td>1.0</td>\n      <td>0.117073</td>\n    </tr>\n    <tr>\n      <th>41</th>\n      <td>0.5</td>\n      <td>0.148432</td>\n    </tr>\n    <tr>\n      <th>42</th>\n      <td>0.0</td>\n      <td>0.061734</td>\n    </tr>\n    <tr>\n      <th>43</th>\n      <td>0.5</td>\n      <td>0.147203</td>\n    </tr>\n    <tr>\n      <th>44</th>\n      <td>0.5</td>\n      <td>0.130802</td>\n    </tr>\n    <tr>\n      <th>45</th>\n      <td>0.0</td>\n      <td>0.068662</td>\n    </tr>\n    <tr>\n      <th>46</th>\n      <td>0.5</td>\n      <td>0.134329</td>\n    </tr>\n    <tr>\n      <th>47</th>\n      <td>0.0</td>\n      <td>0.015823</td>\n    </tr>\n    <tr>\n      <th>48</th>\n      <td>1.0</td>\n      <td>0.171623</td>\n    </tr>\n    <tr>\n      <th>49</th>\n      <td>0.5</td>\n      <td>0.160083</td>\n    </tr>\n  </tbody>\n</table>\n</div>"
     },
     "execution_count": 370,
     "metadata": {},
     "output_type": "execute_result"
    }
   ],
   "source": [
    "def rbf_function(x, c, s):\n",
    "    return np.exp(-1 / (2 * s ** 2) * (x - c) ** 2)\n",
    "\n",
    "\n",
    "class RBFNetwork:\n",
    "    def __init__(self, k, learning_rate, epochs):\n",
    "        self.k = k\n",
    "        self.learning_rate = learning_rate\n",
    "        self.epochs = epochs\n",
    "\n",
    "    def train(self, X, y):\n",
    "        self.centers = X.values[np.random.choice(X.shape[0], self.k, replace=False)]\n",
    "        self.sigma = X.std().mean()\n",
    "        self.weights = [random.uniform(0, 0.25)] * self.k\n",
    "        for i in range(X.shape[0]):\n",
    "            distances = np.linalg.norm(X.loc[i].values - self.centers, axis=1)  # отклонение\n",
    "            phi = rbf_function(distances, 0, self.sigma)\n",
    "\n",
    "            prediction = phi.dot(self.weights)\n",
    "            ic(y.loc[i].values)\n",
    "            ic(prediction)\n",
    "            ic(self.weights )\n",
    "            self.weights += self.learning_rate * (y.loc[i].values - prediction) * phi\n",
    "            ic(self.weights )\n",
    "            break\n",
    "\n",
    "\n",
    "\n",
    "\n",
    "    def predict(self, X):\n",
    "        y_pred = []\n",
    "        for i in range(X.shape[0]):\n",
    "            distances = np.linalg.norm(X.loc[i].values - self.centers, axis=1)\n",
    "            phi = rbf_function(distances, 0, self.sigma)\n",
    "            prediction = phi.dot(self.weights)\n",
    "            y_pred.append(prediction)\n",
    "        return y_pred\n",
    "\n",
    "\n",
    "rbf_network = RBFNetwork(k=3, learning_rate=0.02, epochs=1000)\n",
    "rbf_network.train(X=X_train, y=y_train)\n",
    "y_test['y_pred'] = rbf_network.predict(X=X_test)\n",
    "y_test\n"
   ],
   "metadata": {
    "collapsed": false,
    "ExecuteTime": {
     "end_time": "2023-10-26T15:18:57.292511100Z",
     "start_time": "2023-10-26T15:18:57.241647400Z"
    }
   }
  },
  {
   "cell_type": "code",
   "execution_count": null,
   "outputs": [],
   "source": [],
   "metadata": {
    "collapsed": false
   }
  },
  {
   "cell_type": "code",
   "execution_count": null,
   "outputs": [],
   "source": [],
   "metadata": {
    "collapsed": false
   }
  },
  {
   "cell_type": "code",
   "execution_count": null,
   "outputs": [],
   "source": [],
   "metadata": {
    "collapsed": false
   }
  },
  {
   "cell_type": "code",
   "execution_count": null,
   "outputs": [],
   "source": [],
   "metadata": {
    "collapsed": false
   }
  },
  {
   "cell_type": "code",
   "execution_count": null,
   "outputs": [],
   "source": [],
   "metadata": {
    "collapsed": false
   }
  },
  {
   "cell_type": "code",
   "execution_count": null,
   "outputs": [],
   "source": [],
   "metadata": {
    "collapsed": false
   }
  },
  {
   "cell_type": "code",
   "execution_count": null,
   "outputs": [],
   "source": [],
   "metadata": {
    "collapsed": false
   }
  },
  {
   "cell_type": "code",
   "execution_count": null,
   "outputs": [],
   "source": [],
   "metadata": {
    "collapsed": false
   }
  },
  {
   "cell_type": "code",
   "execution_count": null,
   "outputs": [],
   "source": [],
   "metadata": {
    "collapsed": false
   }
  },
  {
   "cell_type": "code",
   "execution_count": 74,
   "outputs": [
    {
     "name": "stderr",
     "output_type": "stream",
     "text": [
      "ic| self.width: 1.0930993258757473\n",
      "ic| self.centers: [array([ 0.36184086,  0.10097897,  0.69710662, -0.84990079]),\n",
      "                   array([ 0.00509426, -0.89666788,  0.35284489,  0.65044309]),\n",
      "                   array([ 0.48386817, -0.71187904, -0.75228977,  0.2550796 ]),\n",
      "                   array([-0.0715681 , -0.48485803,  0.38599125, -0.51219675])]\n"
     ]
    }
   ],
   "source": [
    "rbf = RBFNetwork(input_neuron=X_train.shape[1], rbf_neuron=X_train.shape[1], output_neuron=1, learning_rate=0.01,\n",
    "                 epochs=1000)\n",
    "rbf.out_param()"
   ],
   "metadata": {
    "collapsed": false,
    "ExecuteTime": {
     "end_time": "2023-10-26T13:25:13.247815700Z",
     "start_time": "2023-10-26T13:25:13.201569300Z"
    }
   }
  },
  {
   "cell_type": "code",
   "execution_count": 73,
   "outputs": [],
   "source": [
    "class RBFNetwork:\n",
    "    def __init__(self, input_neuron, rbf_neuron, output_neuron, learning_rate, epochs):\n",
    "        self.input_neuron = input_neuron\n",
    "        self.rbf_neuron = rbf_neuron\n",
    "        self.output_neuron = output_neuron\n",
    "        self.learning_rate = learning_rate\n",
    "        self.epochs = epochs\n",
    "        self.centers = [np.random.uniform(-1, 1, input_neuron) for _ in range(rbf_neuron)]\n",
    "        self.width = np.mean(\n",
    "            [np.linalg.norm(self.centers[i] - self.centers[j]) for i in range(rbf_neuron) for j in range(rbf_neuron)])\n",
    "\n",
    "    def out_param(self):\n",
    "        ic(self.width)\n",
    "        ic(self.centers)\n",
    "\n",
    "    def radial_basis_function(self, x, c, width):\n",
    "        return np.exp(-np.linalg.norm(x - c) ** 2 / (2 * width ** 2))\n",
    "\n",
    "    def hidden_layer_output(self, X):\n",
    "        G = np.zeros((X.shape[0], self.hidden_dim), float)\n",
    "        for i in range(X.shape[0]):\n",
    "            for j in range(self.hidden_dim):\n",
    "                G[i, j] = self.radial_basis_function(X[i], self.centers[j], self.width)\n",
    "        return G\n",
    "\n",
    "    def train(self, X):\n",
    "        for epoch in range(self.epochs):\n",
    "            G = self.hidden_layer_output(X)\n",
    "            self.weights = np.dot(np.linalg.pinv(G), X)\n",
    "\n",
    "    def predict(self, X):\n",
    "        G = self.hidden_layer_output(X)\n",
    "        return np.dot(G, self.weights)\n"
   ],
   "metadata": {
    "collapsed": false,
    "ExecuteTime": {
     "end_time": "2023-10-26T13:25:13.028596800Z",
     "start_time": "2023-10-26T13:25:13.023834500Z"
    }
   }
  },
  {
   "cell_type": "code",
   "execution_count": 23,
   "outputs": [
    {
     "name": "stdout",
     "output_type": "stream",
     "text": [
      "[[  1.    5.1   3.5   1.4]\n",
      " [  2.    4.9   3.    1.4]\n",
      " [  3.    4.7   3.2   1.3]\n",
      " [  4.    4.6   3.1   1.5]\n",
      " [  5.    5.    3.6   1.4]\n",
      " [  6.    5.4   3.9   1.7]\n",
      " [  7.    4.6   3.4   1.4]\n",
      " [  8.    5.    3.4   1.5]\n",
      " [  9.    4.4   2.9   1.4]\n",
      " [ 10.    4.9   3.1   1.5]\n",
      " [ 11.    5.4   3.7   1.5]\n",
      " [ 12.    4.8   3.4   1.6]\n",
      " [ 13.    4.8   3.    1.4]\n",
      " [ 14.    4.3   3.    1.1]\n",
      " [ 15.    5.8   4.    1.2]\n",
      " [ 16.    5.7   4.4   1.5]\n",
      " [ 17.    5.4   3.9   1.3]\n",
      " [ 18.    5.1   3.5   1.4]\n",
      " [ 19.    5.7   3.8   1.7]\n",
      " [ 20.    5.1   3.8   1.5]\n",
      " [ 21.    5.4   3.4   1.7]\n",
      " [ 22.    5.1   3.7   1.5]\n",
      " [ 23.    4.6   3.6   1. ]\n",
      " [ 24.    5.1   3.3   1.7]\n",
      " [ 25.    4.8   3.4   1.9]\n",
      " [ 26.    5.    3.    1.6]\n",
      " [ 27.    5.    3.4   1.6]\n",
      " [ 28.    5.2   3.5   1.5]\n",
      " [ 29.    5.2   3.4   1.4]\n",
      " [ 30.    4.7   3.2   1.6]\n",
      " [ 31.    4.8   3.1   1.6]\n",
      " [ 32.    5.4   3.4   1.5]\n",
      " [ 33.    5.2   4.1   1.5]\n",
      " [ 34.    5.5   4.2   1.4]\n",
      " [ 35.    4.9   3.1   1.5]\n",
      " [ 36.    5.    3.2   1.2]\n",
      " [ 37.    5.5   3.5   1.3]\n",
      " [ 38.    4.9   3.1   1.5]\n",
      " [ 39.    4.4   3.    1.3]\n",
      " [ 40.    5.1   3.4   1.5]\n",
      " [ 41.    5.    3.5   1.3]\n",
      " [ 42.    4.5   2.3   1.3]\n",
      " [ 43.    4.4   3.2   1.3]\n",
      " [ 44.    5.    3.5   1.6]\n",
      " [ 45.    5.1   3.8   1.9]\n",
      " [ 46.    4.8   3.    1.4]\n",
      " [ 47.    5.1   3.8   1.6]\n",
      " [ 48.    4.6   3.2   1.4]\n",
      " [ 49.    5.3   3.7   1.5]\n",
      " [ 50.    5.    3.3   1.4]\n",
      " [ 51.    7.    3.2   4.7]\n",
      " [ 52.    6.4   3.2   4.5]\n",
      " [ 53.    6.9   3.1   4.9]\n",
      " [ 54.    5.5   2.3   4. ]\n",
      " [ 55.    6.5   2.8   4.6]\n",
      " [ 56.    5.7   2.8   4.5]\n",
      " [ 57.    6.3   3.3   4.7]\n",
      " [ 58.    4.9   2.4   3.3]\n",
      " [ 59.    6.6   2.9   4.6]\n",
      " [ 60.    5.2   2.7   3.9]\n",
      " [ 61.    5.    2.    3.5]\n",
      " [ 62.    5.9   3.    4.2]\n",
      " [ 63.    6.    2.2   4. ]\n",
      " [ 64.    6.1   2.9   4.7]\n",
      " [ 65.    5.6   2.9   3.6]\n",
      " [ 66.    6.7   3.1   4.4]\n",
      " [ 67.    5.6   3.    4.5]\n",
      " [ 68.    5.8   2.7   4.1]\n",
      " [ 69.    6.2   2.2   4.5]\n",
      " [ 70.    5.6   2.5   3.9]\n",
      " [ 71.    5.9   3.2   4.8]\n",
      " [ 72.    6.1   2.8   4. ]\n",
      " [ 73.    6.3   2.5   4.9]\n",
      " [ 74.    6.1   2.8   4.7]\n",
      " [ 75.    6.4   2.9   4.3]\n",
      " [ 76.    6.6   3.    4.4]\n",
      " [ 77.    6.8   2.8   4.8]\n",
      " [ 78.    6.7   3.    5. ]\n",
      " [ 79.    6.    2.9   4.5]\n",
      " [ 80.    5.7   2.6   3.5]\n",
      " [ 81.    5.5   2.4   3.8]\n",
      " [ 82.    5.5   2.4   3.7]\n",
      " [ 83.    5.8   2.7   3.9]\n",
      " [ 84.    6.    2.7   5.1]\n",
      " [ 85.    5.4   3.    4.5]\n",
      " [ 86.    6.    3.4   4.5]\n",
      " [ 87.    6.7   3.1   4.7]\n",
      " [ 88.    6.3   2.3   4.4]\n",
      " [ 89.    5.6   3.    4.1]\n",
      " [ 90.    5.5   2.5   4. ]\n",
      " [ 91.    5.5   2.6   4.4]\n",
      " [ 92.    6.1   3.    4.6]\n",
      " [ 93.    5.8   2.6   4. ]\n",
      " [ 94.    5.    2.3   3.3]\n",
      " [ 95.    5.6   2.7   4.2]\n",
      " [ 96.    5.7   3.    4.2]\n",
      " [ 97.    5.7   2.9   4.2]\n",
      " [ 98.    6.2   2.9   4.3]\n",
      " [ 99.    5.1   2.5   3. ]\n",
      " [100.    5.7   2.8   4.1]\n",
      " [101.    6.3   3.3   6. ]\n",
      " [102.    5.8   2.7   5.1]\n",
      " [103.    7.1   3.    5.9]\n",
      " [104.    6.3   2.9   5.6]\n",
      " [105.    6.5   3.    5.8]\n",
      " [106.    7.6   3.    6.6]\n",
      " [107.    4.9   2.5   4.5]\n",
      " [108.    7.3   2.9   6.3]\n",
      " [109.    6.7   2.5   5.8]\n",
      " [110.    7.2   3.6   6.1]\n",
      " [111.    6.5   3.2   5.1]\n",
      " [112.    6.4   2.7   5.3]\n",
      " [113.    6.8   3.    5.5]\n",
      " [114.    5.7   2.5   5. ]\n",
      " [115.    5.8   2.8   5.1]\n",
      " [116.    6.4   3.2   5.3]\n",
      " [117.    6.5   3.    5.5]\n",
      " [118.    7.7   3.8   6.7]\n",
      " [119.    7.7   2.6   6.9]\n",
      " [120.    6.    2.2   5. ]\n",
      " [121.    6.9   3.2   5.7]\n",
      " [122.    5.6   2.8   4.9]\n",
      " [123.    7.7   2.8   6.7]\n",
      " [124.    6.3   2.7   4.9]\n",
      " [125.    6.7   3.3   5.7]\n",
      " [126.    7.2   3.2   6. ]\n",
      " [127.    6.2   2.8   4.8]\n",
      " [128.    6.1   3.    4.9]\n",
      " [129.    6.4   2.8   5.6]\n",
      " [130.    7.2   3.    5.8]\n",
      " [131.    7.4   2.8   6.1]\n",
      " [132.    7.9   3.8   6.4]\n",
      " [133.    6.4   2.8   5.6]\n",
      " [134.    6.3   2.8   5.1]\n",
      " [135.    6.1   2.6   5.6]\n",
      " [136.    7.7   3.    6.1]\n",
      " [137.    6.3   3.4   5.6]\n",
      " [138.    6.4   3.1   5.5]\n",
      " [139.    6.    3.    4.8]\n",
      " [140.    6.9   3.1   5.4]\n",
      " [141.    6.7   3.1   5.6]\n",
      " [142.    6.9   3.1   5.1]\n",
      " [143.    5.8   2.7   5.1]\n",
      " [144.    6.8   3.2   5.9]\n",
      " [145.    6.7   3.3   5.7]\n",
      " [146.    6.7   3.    5.2]\n",
      " [147.    6.3   2.5   5. ]\n",
      " [148.    6.5   3.    5.2]\n",
      " [149.    6.2   3.4   5.4]\n",
      " [150.    5.9   3.    5.1]]\n",
      "[0.2 0.2 0.2 0.2 0.2 0.4 0.3 0.2 0.2 0.1 0.2 0.2 0.1 0.1 0.2 0.4 0.4 0.3\n",
      " 0.3 0.3 0.2 0.4 0.2 0.5 0.2 0.2 0.4 0.2 0.2 0.2 0.2 0.4 0.1 0.2 0.1 0.2\n",
      " 0.2 0.1 0.2 0.2 0.3 0.3 0.2 0.6 0.4 0.3 0.2 0.2 0.2 0.2 1.4 1.5 1.5 1.3\n",
      " 1.5 1.3 1.6 1.  1.3 1.4 1.  1.5 1.  1.4 1.3 1.4 1.5 1.  1.5 1.1 1.8 1.3\n",
      " 1.5 1.2 1.3 1.4 1.4 1.7 1.5 1.  1.1 1.  1.2 1.6 1.5 1.6 1.5 1.3 1.3 1.3\n",
      " 1.2 1.4 1.2 1.  1.3 1.2 1.3 1.3 1.1 1.3 2.5 1.9 2.1 1.8 2.2 2.1 1.7 1.8\n",
      " 1.8 2.5 2.  1.9 2.1 2.  2.4 2.3 1.8 2.2 2.3 1.5 2.3 2.  2.  1.8 2.1 1.8\n",
      " 1.8 1.8 2.1 1.6 1.9 2.  2.2 1.5 1.4 2.3 2.4 1.8 1.8 2.1 2.4 2.3 1.9 2.3\n",
      " 2.5 2.3 1.9 2.  2.3 1.8]\n",
      "Prediction:  [0.756324867248813]\n"
     ]
    }
   ],
   "source": [
    "import numpy as np\n",
    "import pandas as pd\n",
    "\n",
    "\n",
    "# Определение функции RBF\n",
    "def rbf_function(x, c, s):\n",
    "    return np.exp(-1 / (2 * s ** 2) * (x - c) ** 2)\n",
    "\n",
    "\n",
    "# Класс RBF сети\n",
    "class RBFNetwork:\n",
    "    def __init__(self, k, learning_rate, epochs):\n",
    "        self.k = k\n",
    "        self.learning_rate = learning_rate\n",
    "        self.epochs = epochs\n",
    "\n",
    "    def fit(self, X, y):\n",
    "        self.centers = X[np.random.choice(X.shape[0], self.k, replace=False)]\n",
    "        self.sigma = np.mean(np.std(X, axis=0))\n",
    "        self.weights = np.random.rand(self.k)\n",
    "        for epoch in range(self.epochs):\n",
    "            for i in range(X.shape[0]):\n",
    "                distances = np.linalg.norm(X[i] - self.centers, axis=1)\n",
    "                phi = rbf_function(distances, 0, self.sigma)\n",
    "                prediction = phi.dot(self.weights)\n",
    "                self.weights += self.learning_rate * (y[i] - prediction) * phi\n",
    "\n",
    "    def predict(self, X):\n",
    "        y_pred = []\n",
    "        for i in range(X.shape[0]):\n",
    "            distances = np.linalg.norm(X[i] - self.centers, axis=1)\n",
    "            phi = rbf_function(distances, 0, self.sigma)\n",
    "            prediction = phi.dot(self.weights)\n",
    "            y_pred.append(prediction)\n",
    "        return y_pred\n",
    "\n",
    "\n",
    "# Подготовка данных\n",
    "X = data.iloc[:, 0:4].values\n",
    "y = data.iloc[:, 4].values\n",
    "\n",
    "print(X)\n",
    "print(y)\n",
    "\n",
    "# Создание и обучение RBF сети\n",
    "rbf_network = RBFNetwork(k=5, learning_rate=0.2, epochs=100)\n",
    "rbf_network.fit(X, y)\n",
    "\n",
    "# Пример предсказания\n",
    "example = np.array([[5.1, 3.5, 1.4, 0.2]])\n",
    "prediction = rbf_network.predict(example)\n",
    "print(\"Prediction: \", prediction)\n"
   ],
   "metadata": {
    "collapsed": false,
    "ExecuteTime": {
     "end_time": "2023-10-26T13:03:48.949555600Z",
     "start_time": "2023-10-26T13:03:48.746945600Z"
    }
   }
  },
  {
   "cell_type": "code",
   "execution_count": null,
   "outputs": [],
   "source": [
    "import numpy as np\n",
    "import pandas as pd\n",
    "\n",
    "# Загрузка данных\n",
    "data = pd.read_csv(\n",
    "    'path_to_your_dataset.csv')  # Пожалуйста, замените 'path_to_your_dataset.csv' на путь к вашему датасету\n",
    "\n",
    "\n",
    "# Определение функции RBF\n",
    "def rbf_function(x, c, s):\n",
    "    return np.exp(-1 / (2 * s ** 2) * (x - c) ** 2)\n",
    "\n",
    "\n",
    "# Класс RBF сети\n",
    "class RBFNetwork:\n",
    "    def __init__(self, k, learning_rate, epochs):\n",
    "        self.k = k\n",
    "        self.learning_rate = learning_rate\n",
    "        self.epochs = epochs\n",
    "\n",
    "    def fit(self, X, y):\n",
    "        self.centers = X[np.random.choice(X.shape[0], self.k, replace=False)]\n",
    "        self.sigma = np.mean(np.std(X, axis=0))\n",
    "        self.weights = np.random.rand(self.k)\n",
    "        for epoch in range(self.epochs):\n",
    "            for i in range(X.shape[0]):\n",
    "                distances = np.linalg.norm(X[i] - self.centers, axis=1)\n",
    "                phi = rbf_function(distances, 0, self.sigma)\n",
    "                prediction = phi.dot(self.weights)\n",
    "                self.weights += self.learning_rate * (y[i] - prediction) * phi\n",
    "\n",
    "    def predict(self, X):\n",
    "        y_pred = []\n",
    "        for i in range(X.shape[0]):\n",
    "            distances = np.linalg.norm(X[i] - self.centers, axis=1)\n",
    "            phi = rbf_function(distances, 0, self.sigma)\n",
    "            prediction = phi.dot(self.weights)\n",
    "            y_pred.append(prediction)\n",
    "        return y_pred\n",
    "\n",
    "\n",
    "# Подготовка данных\n",
    "X = data.iloc[:, 0:4].values\n",
    "y = data.iloc[:, 4].values\n",
    "\n",
    "# Преобразование меток классов в числовые значения\n",
    "from sklearn.preprocessing import LabelEncoder\n",
    "\n",
    "le = LabelEncoder()\n",
    "y = le.fit_transform(y)\n",
    "\n",
    "# Создание и обучение RBF сети\n",
    "rbf_network = RBFNetwork(k=5, learning_rate=0.2, epochs=100)\n",
    "rbf_network.fit(X, y)\n",
    "\n",
    "# Пример предсказания\n",
    "example = np.array([[5.1, 3.5, 1.4, 0.2]])\n",
    "prediction = rbf_network.predict(example)\n",
    "print(\"Prediction: \", le.inverse_transform(np.round(prediction)))\n"
   ],
   "metadata": {
    "collapsed": false
   }
  },
  {
   "cell_type": "code",
   "execution_count": 14,
   "outputs": [
    {
     "data": {
      "text/plain": "4"
     },
     "execution_count": 14,
     "metadata": {},
     "output_type": "execute_result"
    }
   ],
   "source": [
    "X_train.shape[1]"
   ],
   "metadata": {
    "collapsed": false,
    "ExecuteTime": {
     "end_time": "2023-10-26T12:37:10.569143100Z",
     "start_time": "2023-10-26T12:37:10.559695900Z"
    }
   }
  },
  {
   "cell_type": "code",
   "execution_count": null,
   "outputs": [],
   "source": [],
   "metadata": {
    "collapsed": false
   }
  },
  {
   "cell_type": "code",
   "execution_count": null,
   "outputs": [],
   "source": [],
   "metadata": {
    "collapsed": false
   }
  },
  {
   "cell_type": "code",
   "execution_count": 15,
   "outputs": [
    {
     "data": {
      "text/plain": "<Figure size 640x480 with 1 Axes>",
      "image/png": "[encoded data removed]"
     },
     "metadata": {},
     "output_type": "display_data"
    }
   ],
   "source": [
    "sigma = 1.0  # Параметр масштаба\n",
    "\n",
    "\n",
    "# Определение Гауссовой функции\n",
    "def gaussian_rbf(x, c, sigma):\n",
    "    return np.exp(-np.linalg.norm(x - c) ** 2 / (2 * sigma ** 2))\n",
    "\n",
    "\n",
    "x = np.linspace(-5, 5, 100)\n",
    "c = 0  # Центр функции\n",
    "\n",
    "# Вычисление значений Гауссовой функции\n",
    "y = [gaussian_rbf(i, c, sigma) for i in x]\n",
    "\n",
    "# Визуализация функции\n",
    "plt.plot(x, y)\n",
    "plt.title('Gaussian RBF')\n",
    "plt.xlabel('x')\n",
    "plt.ylabel('y')\n",
    "plt.show()\n"
   ],
   "metadata": {
    "collapsed": false,
    "ExecuteTime": {
     "end_time": "2023-10-26T12:38:49.845226Z",
     "start_time": "2023-10-26T12:38:49.715308400Z"
    }
   }
  },
  {
   "cell_type": "code",
   "execution_count": null,
   "outputs": [],
   "source": [],
   "metadata": {
    "collapsed": false
   }
  },
  {
   "cell_type": "code",
   "execution_count": null,
   "outputs": [],
   "source": [],
   "metadata": {
    "collapsed": false
   }
  },
  {
   "cell_type": "code",
   "execution_count": null,
   "outputs": [],
   "source": [],
   "metadata": {
    "collapsed": false
   }
  },
  {
   "cell_type": "code",
   "execution_count": null,
   "outputs": [],
   "source": [],
   "metadata": {
    "collapsed": false
   }
  },
  {
   "cell_type": "code",
   "execution_count": 9,
   "outputs": [
    {
     "data": {
      "text/plain": "array([[0.44258447, 0.23928181],\n       [0.38773267, 0.97694845],\n       [0.3051942 , 0.73650322],\n       [0.19932421, 0.51963229],\n       [0.48300003, 0.45148019],\n       [0.62022792, 0.20242499],\n       [0.85800745, 0.43830576],\n       [0.83558283, 0.31632974],\n       [0.58983551, 0.66459923],\n       [0.99044456, 0.8002656 ],\n       [0.75168438, 0.65279668],\n       [0.52492279, 0.97878456],\n       [0.71710169, 0.94363065],\n       [0.77091467, 0.80914451],\n       [0.46579387, 0.398125  ],\n       [0.19134665, 0.48121801],\n       [0.34059673, 0.89104621],\n       [0.74405908, 0.99835326],\n       [0.7465076 , 0.41072056],\n       [0.90951068, 0.00266431],\n       [0.60446616, 0.13605474],\n       [0.56032682, 0.32352803],\n       [0.97742886, 0.21413136],\n       [0.68711065, 0.97994021],\n       [0.73179064, 0.38110954],\n       [0.34863091, 0.1314946 ],\n       [0.71956048, 0.13023694],\n       [0.6444545 , 0.02376673],\n       [0.43684006, 0.23889482],\n       [0.88402649, 0.84813326],\n       [0.12206517, 0.8003326 ],\n       [0.48485114, 0.38348318],\n       [0.99894079, 0.05340081],\n       [0.75071606, 0.58010805],\n       [0.38602809, 0.69698486],\n       [0.54335075, 0.13392193],\n       [0.6323581 , 0.56745335],\n       [0.44877423, 0.87736375],\n       [0.61721619, 0.79558906],\n       [0.10261865, 0.08115309],\n       [0.97989683, 0.91608041],\n       [0.40752634, 0.82726773],\n       [0.08785151, 0.93758504],\n       [0.67818622, 0.53323772],\n       [0.93027581, 0.19025631],\n       [0.02047088, 0.55843269],\n       [0.08692209, 0.12414169],\n       [0.29548052, 0.47590032],\n       [0.44706551, 0.61251888],\n       [0.15434584, 0.16639696],\n       [0.6234992 , 0.27800802],\n       [0.67541088, 0.32020857],\n       [0.87875107, 0.72575001],\n       [0.28807583, 0.76634746],\n       [0.05218601, 0.26674911],\n       [0.96703884, 0.38547107],\n       [0.75980664, 0.36360958],\n       [0.02414622, 0.46096046],\n       [0.46357969, 0.62731436],\n       [0.3365644 , 0.22350967],\n       [0.38076519, 0.04860347],\n       [0.75296203, 0.48897696],\n       [0.98650254, 0.4002194 ],\n       [0.99314595, 0.91307774],\n       [0.92727117, 0.14823758],\n       [0.06622788, 0.35140479],\n       [0.38236818, 0.39007771],\n       [0.57555696, 0.69390716],\n       [0.13525467, 0.58130815],\n       [0.88938978, 0.64055217],\n       [0.58572997, 0.58716681],\n       [0.83937801, 0.34654709],\n       [0.46951885, 0.26286302],\n       [0.6170793 , 0.19566496],\n       [0.3618292 , 0.1849801 ],\n       [0.4299805 , 0.76443229],\n       [0.72593518, 0.6759573 ],\n       [0.6317828 , 0.50015249],\n       [0.2849081 , 0.47334439],\n       [0.55478253, 0.42842178],\n       [0.50295439, 0.52644442],\n       [0.05410534, 0.08719747],\n       [0.80533334, 0.25321583],\n       [0.35709188, 0.79494928],\n       [0.49151814, 0.88749312],\n       [0.04547547, 0.83273737],\n       [0.22454164, 0.73132538],\n       [0.11744283, 0.91572932],\n       [0.41786382, 0.1566017 ],\n       [0.28191524, 0.27525091],\n       [0.07140394, 0.2455176 ],\n       [0.56723471, 0.4666861 ],\n       [0.94415783, 0.30839966],\n       [0.72761989, 0.15940423],\n       [0.88831637, 0.62339095],\n       [0.71190357, 0.47114728],\n       [0.9370465 , 0.7590165 ],\n       [0.21833622, 0.18123215],\n       [0.59299182, 0.46458984],\n       [0.88811221, 0.25403909]])"
     },
     "execution_count": 9,
     "metadata": {},
     "output_type": "execute_result"
    }
   ],
   "source": [
    "data = np.random.rand(100, 2)\n",
    "data"
   ],
   "metadata": {
    "collapsed": false,
    "ExecuteTime": {
     "end_time": "2023-10-26T08:05:52.185043300Z",
     "start_time": "2023-10-26T08:05:52.177065200Z"
    }
   }
  },
  {
   "cell_type": "code",
   "execution_count": 8,
   "outputs": [],
   "source": [
    "# Реализ|ация сети RBF для кластеризации данных\n",
    "class RBFNetworkClustering:\n",
    "    def __init__(self, input_dim, hidden_dim, output_dim, learning_rate, epochs):\n",
    "        self.input_dim = input_dim\n",
    "        self.hidden_dim = hidden_dim\n",
    "        self.output_dim = output_dim\n",
    "        self.learning_rate = learning_rate\n",
    "        self.epochs = epochs\n",
    "        self.centers = [np.random.uniform(-1, 1, input_dim) for _ in range(hidden_dim)]\n",
    "        self.width = np.mean(\n",
    "            [np.linalg.norm(self.centers[i] - self.centers[j]) for i in range(hidden_dim) for j in range(hidden_dim)])\n",
    "\n",
    "        self.weights = np.random.random((hidden_dim, output_dim))\n",
    "\n",
    "    def radial_basis_function(self, x, c, width):\n",
    "        return np.exp(-np.linalg.norm(x - c) ** 2 / (2 * width ** 2))\n",
    "\n",
    "    def hidden_layer_output(self, X):\n",
    "        G = np.zeros((X.shape[0], self.hidden_dim), float)\n",
    "        for i in range(X.shape[0]):\n",
    "            for j in range(self.hidden_dim):\n",
    "                G[i, j] = self.radial_basis_function(X[i], self.centers[j], self.width)\n",
    "        return G\n",
    "\n",
    "    def train(self, X):\n",
    "        for epoch in range(self.epochs):\n",
    "            G = self.hidden_layer_output(X)\n",
    "            self.weights = np.dot(np.linalg.pinv(G), X)\n",
    "\n",
    "    def predict(self, X):\n",
    "        G = self.hidden_layer_output(X)\n",
    "        return np.dot(G, self.weights)"
   ],
   "metadata": {
    "collapsed": false,
    "ExecuteTime": {
     "end_time": "2023-10-26T08:05:51.940683900Z",
     "start_time": "2023-10-26T08:05:51.936972400Z"
    }
   }
  },
  {
   "cell_type": "code",
   "execution_count": 10,
   "outputs": [],
   "source": [
    "rbf_network = RBFNetworkClustering(input_dim=2, hidden_dim=5, output_dim=2, learning_rate=0.1, epochs=100)\n",
    "rbf_network.train(data)"
   ],
   "metadata": {
    "collapsed": false,
    "ExecuteTime": {
     "end_time": "2023-10-26T08:05:52.719066300Z",
     "start_time": "2023-10-26T08:05:52.482007400Z"
    }
   }
  },
  {
   "cell_type": "code",
   "execution_count": 11,
   "outputs": [
    {
     "name": "stdout",
     "output_type": "stream",
     "text": [
      "Clusters: [[ 0.49680905  0.20599235]\n",
      " [ 0.35470497  0.99724375]\n",
      " [ 0.30549936  0.74591083]\n",
      " [ 0.19693807  0.50624579]\n",
      " [ 0.57264414  0.44417935]\n",
      " [ 0.62932083  0.18740223]\n",
      " [ 0.83291632  0.44820704]\n",
      " [ 0.78060912  0.32808399]\n",
      " [ 0.68954677  0.69188432]\n",
      " [ 0.90998156  0.73688011]\n",
      " [ 0.82334553  0.67239376]\n",
      " [ 0.54640955  1.00407497]\n",
      " [ 0.76058863  0.94567667]\n",
      " [ 0.82841637  0.8190108 ]\n",
      " [ 0.54870362  0.38224093]\n",
      " [ 0.19301734  0.46691349]\n",
      " [ 0.31271303  0.91068552]\n",
      " [ 0.76510108  0.97795379]\n",
      " [ 0.77880462  0.41963982]\n",
      " [ 0.62271264  0.06056307]\n",
      " [ 0.59126396  0.11774762]\n",
      " [ 0.62510219  0.30857239]\n",
      " [ 0.75071286  0.24265483]\n",
      " [ 0.72359155  0.98131155]\n",
      " [ 0.7618093   0.38766042]\n",
      " [ 0.38030864  0.09324467]\n",
      " [ 0.64972478  0.13235929]\n",
      " [ 0.55948429  0.01790075]\n",
      " [ 0.49114491  0.20522619]\n",
      " [ 0.88060217  0.81657255]\n",
      " [-0.01312946  0.7820854 ]\n",
      " [ 0.56672904  0.36748342]\n",
      " [ 0.65603427  0.11624596]\n",
      " [ 0.81696434  0.59775826]\n",
      " [ 0.43484532  0.71316593]\n",
      " [ 0.54883206  0.10645502]\n",
      " [ 0.72886634  0.58581856]\n",
      " [ 0.47778777  0.90980731]\n",
      " [ 0.70236806  0.82885178]\n",
      " [ 0.11860445  0.10961225]\n",
      " [ 0.894514    0.82007544]\n",
      " [ 0.43383195  0.85551801]\n",
      " [-0.1249332   0.89667563]\n",
      " [ 0.7622307   0.5492362 ]\n",
      " [ 0.73585217  0.21865004]\n",
      " [-0.08383055  0.56242284]\n",
      " [ 0.10052824  0.1564049 ]\n",
      " [ 0.34063312  0.45932942]\n",
      " [ 0.5294512   0.62465323]\n",
      " [ 0.17561262  0.16535892]\n",
      " [ 0.65991098  0.26696761]\n",
      " [ 0.70873378  0.31810613]\n",
      " [ 0.8870676   0.71729465]\n",
      " [ 0.27021751  0.77509656]\n",
      " [ 0.04316666  0.30003887]\n",
      " [ 0.83201489  0.39258081]\n",
      " [ 0.77011223  0.37117627]\n",
      " [-0.04432057  0.47850317]\n",
      " [ 0.54881672  0.64294427]\n",
      " [ 0.38482973  0.18777936]\n",
      " [ 0.38796462  0.01045562]\n",
      " [ 0.80265251  0.50217763]\n",
      " [ 0.83849285  0.4041159 ]\n",
      " [ 0.89689978  0.81118918]\n",
      " [ 0.7120663   0.18223101]\n",
      " [ 0.04434651  0.36840571]\n",
      " [ 0.45366912  0.36740218]\n",
      " [ 0.67252744  0.72355805]\n",
      " [ 0.08428869  0.57077955]\n",
      " [ 0.88578137  0.63814266]\n",
      " [ 0.68673849  0.60604697]\n",
      " [ 0.79424701  0.35788114]\n",
      " [ 0.52816672  0.23325778]\n",
      " [ 0.6245367   0.17998736]\n",
      " [ 0.40475002  0.14710672]\n",
      " [ 0.48190498  0.79163989]\n",
      " [ 0.80663399  0.6985795 ]\n",
      " [ 0.72123404  0.51113879]\n",
      " [ 0.32640964  0.45633796]\n",
      " [ 0.64237192  0.42474305]\n",
      " [ 0.59867154  0.53149018]\n",
      " [ 0.0666469   0.14254834]\n",
      " [ 0.74295616  0.26398366]\n",
      " [ 0.36841769  0.81547082]\n",
      " [ 0.53282964  0.92177291]\n",
      " [-0.15377772  0.79863404]\n",
      " [ 0.1797427   0.72909695]\n",
      " [-0.06605962  0.88572994]\n",
      " [ 0.45249288  0.11834301]\n",
      " [ 0.32782851  0.24519949]\n",
      " [ 0.0706102   0.27221388]\n",
      " [ 0.65963321  0.46902692]\n",
      " [ 0.79704569  0.32400083]\n",
      " [ 0.66790487  0.16178157]\n",
      " [ 0.88346856  0.6225617 ]\n",
      " [ 0.77445627  0.48271345]\n",
      " [ 0.90310859  0.72669098]\n",
      " [ 0.24899457  0.16069767]\n",
      " [ 0.68281135  0.46877687]\n",
      " [ 0.76397807  0.27224497]]\n"
     ]
    }
   ],
   "source": [
    "clusters = rbf_network.predict(data)\n",
    "print(\"Clusters:\", clusters)"
   ],
   "metadata": {
    "collapsed": false,
    "ExecuteTime": {
     "end_time": "2023-10-26T08:05:53.021938100Z",
     "start_time": "2023-10-26T08:05:53.012962900Z"
    }
   }
  },
  {
   "cell_type": "code",
   "execution_count": 22,
   "outputs": [
    {
     "data": {
      "text/plain": "['blue',\n 'red',\n 'red',\n 'red',\n 'blue',\n 'blue',\n 'blue',\n 'blue',\n 'red',\n 'blue',\n 'blue',\n 'red',\n 'red',\n 'blue',\n 'blue',\n 'red',\n 'red',\n 'red',\n 'blue',\n 'blue',\n 'blue',\n 'blue',\n 'blue',\n 'red',\n 'blue',\n 'blue',\n 'blue',\n 'blue',\n 'blue',\n 'blue',\n 'red',\n 'blue',\n 'blue',\n 'blue',\n 'red',\n 'blue',\n 'blue',\n 'red',\n 'red',\n 'blue',\n 'blue',\n 'red',\n 'red',\n 'blue',\n 'blue',\n 'red',\n 'red',\n 'red',\n 'red',\n 'blue',\n 'blue',\n 'blue',\n 'blue',\n 'red',\n 'red',\n 'blue',\n 'blue',\n 'red',\n 'red',\n 'blue',\n 'blue',\n 'blue',\n 'blue',\n 'blue',\n 'blue',\n 'red',\n 'blue',\n 'red',\n 'red',\n 'blue',\n 'blue',\n 'blue',\n 'blue',\n 'blue',\n 'blue',\n 'red',\n 'blue',\n 'blue',\n 'red',\n 'blue',\n 'blue',\n 'red',\n 'blue',\n 'red',\n 'red',\n 'red',\n 'red',\n 'red',\n 'blue',\n 'blue',\n 'red',\n 'blue',\n 'blue',\n 'blue',\n 'blue',\n 'blue',\n 'blue',\n 'blue',\n 'blue',\n 'blue']"
     },
     "execution_count": 22,
     "metadata": {},
     "output_type": "execute_result"
    }
   ],
   "source": [
    "color_clusters = []\n",
    "for i in clusters:\n",
    "    if i[0] > i[1]:\n",
    "        color_clusters.append('blue')\n",
    "    else:\n",
    "        color_clusters.append('red')\n",
    "color_clusters"
   ],
   "metadata": {
    "collapsed": false,
    "ExecuteTime": {
     "end_time": "2023-10-26T08:10:57.283262600Z",
     "start_time": "2023-10-26T08:10:57.277278300Z"
    }
   }
  },
  {
   "cell_type": "code",
   "execution_count": 32,
   "outputs": [
    {
     "data": {
      "text/plain": "<Figure size 640x480 with 1 Axes>",
      "image/png": "[encoded data removed]"
     },
     "metadata": {},
     "output_type": "display_data"
    }
   ],
   "source": [
    "plt.figure()\n",
    "for i, ii in enumerate(data):\n",
    "    plt.scatter(x=ii[0], y=ii[1], color=f'{color_clusters[i]}')\n",
    "plt.grid()\n",
    "plt.show()"
   ],
   "metadata": {
    "collapsed": false,
    "ExecuteTime": {
     "end_time": "2023-10-26T08:14:35.677165100Z",
     "start_time": "2023-10-26T08:14:34.830285Z"
    }
   }
  }
 ],
 "metadata": {
  "kernelspec": {
   "display_name": "Python 3",
   "language": "python",
   "name": "python3"
  },
  "language_info": {
   "codemirror_mode": {
    "name": "ipython",
    "version": 2
   },
   "file_extension": ".py",
   "mimetype": "text/x-python",
   "name": "python",
   "nbconvert_exporter": "python",
   "pygments_lexer": "ipython2",
   "version": "2.7.6"
  }
 },
 "nbformat": 4,
 "nbformat_minor": 0
}
