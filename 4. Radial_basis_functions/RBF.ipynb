{
 "cells": [
  {
   "cell_type": "code",
   "execution_count": 7,
   "metadata": {
    "collapsed": true,
    "ExecuteTime": {
     "end_time": "2023-10-26T08:05:51.932982500Z",
     "start_time": "2023-10-26T08:05:51.266764600Z"
    }
   },
   "outputs": [],
   "source": [
    "import matplotlib.pyplot as plt\n",
    "import numpy as np\n",
    "import random"
   ]
  },
  {
   "cell_type": "code",
   "execution_count": 8,
   "outputs": [],
   "source": [
    "# Реализация сети RBF для кластеризации данных\n",
    "class RBFNetworkClustering:\n",
    "    def __init__(self, input_dim, hidden_dim, output_dim, learning_rate, epochs):\n",
    "        self.input_dim = input_dim\n",
    "        self.hidden_dim = hidden_dim\n",
    "        self.output_dim = output_dim\n",
    "        self.learning_rate = learning_rate\n",
    "        self.epochs = epochs\n",
    "        self.centers = [np.random.uniform(-1, 1, input_dim) for _ in range(hidden_dim)]\n",
    "        self.width = np.mean(\n",
    "            [np.linalg.norm(self.centers[i] - self.centers[j]) for i in range(hidden_dim) for j in range(hidden_dim)])\n",
    "\n",
    "        self.weights = np.random.random((hidden_dim, output_dim))\n",
    "\n",
    "    def radial_basis_function(self, x, c, width):\n",
    "        return np.exp(-np.linalg.norm(x - c) ** 2 / (2 * width ** 2))\n",
    "\n",
    "    def hidden_layer_output(self, X):\n",
    "        G = np.zeros((X.shape[0], self.hidden_dim), float)\n",
    "        for i in range(X.shape[0]):\n",
    "            for j in range(self.hidden_dim):\n",
    "                G[i, j] = self.radial_basis_function(X[i], self.centers[j], self.width)\n",
    "        return G\n",
    "\n",
    "    def train(self, X):\n",
    "        for epoch in range(self.epochs):\n",
    "            G = self.hidden_layer_output(X)\n",
    "            self.weights = np.dot(np.linalg.pinv(G), X)\n",
    "\n",
    "    def predict(self, X):\n",
    "        G = self.hidden_layer_output(X)\n",
    "        return np.dot(G, self.weights)"
   ],
   "metadata": {
    "collapsed": false,
    "ExecuteTime": {
     "end_time": "2023-10-26T08:05:51.940683900Z",
     "start_time": "2023-10-26T08:05:51.936972400Z"
    }
   }
  },
  {
   "cell_type": "code",
   "execution_count": 9,
   "outputs": [
    {
     "data": {
      "text/plain": "array([[0.44258447, 0.23928181],\n       [0.38773267, 0.97694845],\n       [0.3051942 , 0.73650322],\n       [0.19932421, 0.51963229],\n       [0.48300003, 0.45148019],\n       [0.62022792, 0.20242499],\n       [0.85800745, 0.43830576],\n       [0.83558283, 0.31632974],\n       [0.58983551, 0.66459923],\n       [0.99044456, 0.8002656 ],\n       [0.75168438, 0.65279668],\n       [0.52492279, 0.97878456],\n       [0.71710169, 0.94363065],\n       [0.77091467, 0.80914451],\n       [0.46579387, 0.398125  ],\n       [0.19134665, 0.48121801],\n       [0.34059673, 0.89104621],\n       [0.74405908, 0.99835326],\n       [0.7465076 , 0.41072056],\n       [0.90951068, 0.00266431],\n       [0.60446616, 0.13605474],\n       [0.56032682, 0.32352803],\n       [0.97742886, 0.21413136],\n       [0.68711065, 0.97994021],\n       [0.73179064, 0.38110954],\n       [0.34863091, 0.1314946 ],\n       [0.71956048, 0.13023694],\n       [0.6444545 , 0.02376673],\n       [0.43684006, 0.23889482],\n       [0.88402649, 0.84813326],\n       [0.12206517, 0.8003326 ],\n       [0.48485114, 0.38348318],\n       [0.99894079, 0.05340081],\n       [0.75071606, 0.58010805],\n       [0.38602809, 0.69698486],\n       [0.54335075, 0.13392193],\n       [0.6323581 , 0.56745335],\n       [0.44877423, 0.87736375],\n       [0.61721619, 0.79558906],\n       [0.10261865, 0.08115309],\n       [0.97989683, 0.91608041],\n       [0.40752634, 0.82726773],\n       [0.08785151, 0.93758504],\n       [0.67818622, 0.53323772],\n       [0.93027581, 0.19025631],\n       [0.02047088, 0.55843269],\n       [0.08692209, 0.12414169],\n       [0.29548052, 0.47590032],\n       [0.44706551, 0.61251888],\n       [0.15434584, 0.16639696],\n       [0.6234992 , 0.27800802],\n       [0.67541088, 0.32020857],\n       [0.87875107, 0.72575001],\n       [0.28807583, 0.76634746],\n       [0.05218601, 0.26674911],\n       [0.96703884, 0.38547107],\n       [0.75980664, 0.36360958],\n       [0.02414622, 0.46096046],\n       [0.46357969, 0.62731436],\n       [0.3365644 , 0.22350967],\n       [0.38076519, 0.04860347],\n       [0.75296203, 0.48897696],\n       [0.98650254, 0.4002194 ],\n       [0.99314595, 0.91307774],\n       [0.92727117, 0.14823758],\n       [0.06622788, 0.35140479],\n       [0.38236818, 0.39007771],\n       [0.57555696, 0.69390716],\n       [0.13525467, 0.58130815],\n       [0.88938978, 0.64055217],\n       [0.58572997, 0.58716681],\n       [0.83937801, 0.34654709],\n       [0.46951885, 0.26286302],\n       [0.6170793 , 0.19566496],\n       [0.3618292 , 0.1849801 ],\n       [0.4299805 , 0.76443229],\n       [0.72593518, 0.6759573 ],\n       [0.6317828 , 0.50015249],\n       [0.2849081 , 0.47334439],\n       [0.55478253, 0.42842178],\n       [0.50295439, 0.52644442],\n       [0.05410534, 0.08719747],\n       [0.80533334, 0.25321583],\n       [0.35709188, 0.79494928],\n       [0.49151814, 0.88749312],\n       [0.04547547, 0.83273737],\n       [0.22454164, 0.73132538],\n       [0.11744283, 0.91572932],\n       [0.41786382, 0.1566017 ],\n       [0.28191524, 0.27525091],\n       [0.07140394, 0.2455176 ],\n       [0.56723471, 0.4666861 ],\n       [0.94415783, 0.30839966],\n       [0.72761989, 0.15940423],\n       [0.88831637, 0.62339095],\n       [0.71190357, 0.47114728],\n       [0.9370465 , 0.7590165 ],\n       [0.21833622, 0.18123215],\n       [0.59299182, 0.46458984],\n       [0.88811221, 0.25403909]])"
     },
     "execution_count": 9,
     "metadata": {},
     "output_type": "execute_result"
    }
   ],
   "source": [
    "data = np.random.rand(100, 2)\n",
    "data"
   ],
   "metadata": {
    "collapsed": false,
    "ExecuteTime": {
     "end_time": "2023-10-26T08:05:52.185043300Z",
     "start_time": "2023-10-26T08:05:52.177065200Z"
    }
   }
  },
  {
   "cell_type": "code",
   "execution_count": 10,
   "outputs": [],
   "source": [
    "rbf_network = RBFNetworkClustering(input_dim=2, hidden_dim=5, output_dim=2, learning_rate=0.1, epochs=100)\n",
    "rbf_network.train(data)"
   ],
   "metadata": {
    "collapsed": false,
    "ExecuteTime": {
     "end_time": "2023-10-26T08:05:52.719066300Z",
     "start_time": "2023-10-26T08:05:52.482007400Z"
    }
   }
  },
  {
   "cell_type": "code",
   "execution_count": 11,
   "outputs": [
    {
     "name": "stdout",
     "output_type": "stream",
     "text": [
      "Clusters: [[ 0.49680905  0.20599235]\n",
      " [ 0.35470497  0.99724375]\n",
      " [ 0.30549936  0.74591083]\n",
      " [ 0.19693807  0.50624579]\n",
      " [ 0.57264414  0.44417935]\n",
      " [ 0.62932083  0.18740223]\n",
      " [ 0.83291632  0.44820704]\n",
      " [ 0.78060912  0.32808399]\n",
      " [ 0.68954677  0.69188432]\n",
      " [ 0.90998156  0.73688011]\n",
      " [ 0.82334553  0.67239376]\n",
      " [ 0.54640955  1.00407497]\n",
      " [ 0.76058863  0.94567667]\n",
      " [ 0.82841637  0.8190108 ]\n",
      " [ 0.54870362  0.38224093]\n",
      " [ 0.19301734  0.46691349]\n",
      " [ 0.31271303  0.91068552]\n",
      " [ 0.76510108  0.97795379]\n",
      " [ 0.77880462  0.41963982]\n",
      " [ 0.62271264  0.06056307]\n",
      " [ 0.59126396  0.11774762]\n",
      " [ 0.62510219  0.30857239]\n",
      " [ 0.75071286  0.24265483]\n",
      " [ 0.72359155  0.98131155]\n",
      " [ 0.7618093   0.38766042]\n",
      " [ 0.38030864  0.09324467]\n",
      " [ 0.64972478  0.13235929]\n",
      " [ 0.55948429  0.01790075]\n",
      " [ 0.49114491  0.20522619]\n",
      " [ 0.88060217  0.81657255]\n",
      " [-0.01312946  0.7820854 ]\n",
      " [ 0.56672904  0.36748342]\n",
      " [ 0.65603427  0.11624596]\n",
      " [ 0.81696434  0.59775826]\n",
      " [ 0.43484532  0.71316593]\n",
      " [ 0.54883206  0.10645502]\n",
      " [ 0.72886634  0.58581856]\n",
      " [ 0.47778777  0.90980731]\n",
      " [ 0.70236806  0.82885178]\n",
      " [ 0.11860445  0.10961225]\n",
      " [ 0.894514    0.82007544]\n",
      " [ 0.43383195  0.85551801]\n",
      " [-0.1249332   0.89667563]\n",
      " [ 0.7622307   0.5492362 ]\n",
      " [ 0.73585217  0.21865004]\n",
      " [-0.08383055  0.56242284]\n",
      " [ 0.10052824  0.1564049 ]\n",
      " [ 0.34063312  0.45932942]\n",
      " [ 0.5294512   0.62465323]\n",
      " [ 0.17561262  0.16535892]\n",
      " [ 0.65991098  0.26696761]\n",
      " [ 0.70873378  0.31810613]\n",
      " [ 0.8870676   0.71729465]\n",
      " [ 0.27021751  0.77509656]\n",
      " [ 0.04316666  0.30003887]\n",
      " [ 0.83201489  0.39258081]\n",
      " [ 0.77011223  0.37117627]\n",
      " [-0.04432057  0.47850317]\n",
      " [ 0.54881672  0.64294427]\n",
      " [ 0.38482973  0.18777936]\n",
      " [ 0.38796462  0.01045562]\n",
      " [ 0.80265251  0.50217763]\n",
      " [ 0.83849285  0.4041159 ]\n",
      " [ 0.89689978  0.81118918]\n",
      " [ 0.7120663   0.18223101]\n",
      " [ 0.04434651  0.36840571]\n",
      " [ 0.45366912  0.36740218]\n",
      " [ 0.67252744  0.72355805]\n",
      " [ 0.08428869  0.57077955]\n",
      " [ 0.88578137  0.63814266]\n",
      " [ 0.68673849  0.60604697]\n",
      " [ 0.79424701  0.35788114]\n",
      " [ 0.52816672  0.23325778]\n",
      " [ 0.6245367   0.17998736]\n",
      " [ 0.40475002  0.14710672]\n",
      " [ 0.48190498  0.79163989]\n",
      " [ 0.80663399  0.6985795 ]\n",
      " [ 0.72123404  0.51113879]\n",
      " [ 0.32640964  0.45633796]\n",
      " [ 0.64237192  0.42474305]\n",
      " [ 0.59867154  0.53149018]\n",
      " [ 0.0666469   0.14254834]\n",
      " [ 0.74295616  0.26398366]\n",
      " [ 0.36841769  0.81547082]\n",
      " [ 0.53282964  0.92177291]\n",
      " [-0.15377772  0.79863404]\n",
      " [ 0.1797427   0.72909695]\n",
      " [-0.06605962  0.88572994]\n",
      " [ 0.45249288  0.11834301]\n",
      " [ 0.32782851  0.24519949]\n",
      " [ 0.0706102   0.27221388]\n",
      " [ 0.65963321  0.46902692]\n",
      " [ 0.79704569  0.32400083]\n",
      " [ 0.66790487  0.16178157]\n",
      " [ 0.88346856  0.6225617 ]\n",
      " [ 0.77445627  0.48271345]\n",
      " [ 0.90310859  0.72669098]\n",
      " [ 0.24899457  0.16069767]\n",
      " [ 0.68281135  0.46877687]\n",
      " [ 0.76397807  0.27224497]]\n"
     ]
    }
   ],
   "source": [
    "clusters = rbf_network.predict(data)\n",
    "print(\"Clusters:\", clusters)"
   ],
   "metadata": {
    "collapsed": false,
    "ExecuteTime": {
     "end_time": "2023-10-26T08:05:53.021938100Z",
     "start_time": "2023-10-26T08:05:53.012962900Z"
    }
   }
  },
  {
   "cell_type": "code",
   "execution_count": 22,
   "outputs": [
    {
     "data": {
      "text/plain": "['blue',\n 'red',\n 'red',\n 'red',\n 'blue',\n 'blue',\n 'blue',\n 'blue',\n 'red',\n 'blue',\n 'blue',\n 'red',\n 'red',\n 'blue',\n 'blue',\n 'red',\n 'red',\n 'red',\n 'blue',\n 'blue',\n 'blue',\n 'blue',\n 'blue',\n 'red',\n 'blue',\n 'blue',\n 'blue',\n 'blue',\n 'blue',\n 'blue',\n 'red',\n 'blue',\n 'blue',\n 'blue',\n 'red',\n 'blue',\n 'blue',\n 'red',\n 'red',\n 'blue',\n 'blue',\n 'red',\n 'red',\n 'blue',\n 'blue',\n 'red',\n 'red',\n 'red',\n 'red',\n 'blue',\n 'blue',\n 'blue',\n 'blue',\n 'red',\n 'red',\n 'blue',\n 'blue',\n 'red',\n 'red',\n 'blue',\n 'blue',\n 'blue',\n 'blue',\n 'blue',\n 'blue',\n 'red',\n 'blue',\n 'red',\n 'red',\n 'blue',\n 'blue',\n 'blue',\n 'blue',\n 'blue',\n 'blue',\n 'red',\n 'blue',\n 'blue',\n 'red',\n 'blue',\n 'blue',\n 'red',\n 'blue',\n 'red',\n 'red',\n 'red',\n 'red',\n 'red',\n 'blue',\n 'blue',\n 'red',\n 'blue',\n 'blue',\n 'blue',\n 'blue',\n 'blue',\n 'blue',\n 'blue',\n 'blue',\n 'blue']"
     },
     "execution_count": 22,
     "metadata": {},
     "output_type": "execute_result"
    }
   ],
   "source": [
    "color_clusters = []\n",
    "for i in clusters:\n",
    "    if i[0] > i[1]:\n",
    "        color_clusters.append('blue')\n",
    "    else:\n",
    "        color_clusters.append('red')\n",
    "color_clusters"
   ],
   "metadata": {
    "collapsed": false,
    "ExecuteTime": {
     "end_time": "2023-10-26T08:10:57.283262600Z",
     "start_time": "2023-10-26T08:10:57.277278300Z"
    }
   }
  },
  {
   "cell_type": "code",
   "execution_count": 32,
   "outputs": [
    {
     "data": {
      "text/plain": "<Figure size 640x480 with 1 Axes>",
      "image/png": "[encoded data removed]"
     },
     "metadata": {},
     "output_type": "display_data"
    }
   ],
   "source": [
    "plt.figure()\n",
    "for i, ii in enumerate(data):\n",
    "    plt.scatter(x=ii[0], y=ii[1], color=f'{color_clusters[i]}')\n",
    "plt.grid()\n",
    "plt.show()"
   ],
   "metadata": {
    "collapsed": false,
    "ExecuteTime": {
     "end_time": "2023-10-26T08:14:35.677165100Z",
     "start_time": "2023-10-26T08:14:34.830285Z"
    }
   }
  }
 ],
 "metadata": {
  "kernelspec": {
   "display_name": "Python 3",
   "language": "python",
   "name": "python3"
  },
  "language_info": {
   "codemirror_mode": {
    "name": "ipython",
    "version": 2
   },
   "file_extension": ".py",
   "mimetype": "text/x-python",
   "name": "python",
   "nbconvert_exporter": "python",
   "pygments_lexer": "ipython2",
   "version": "2.7.6"
  }
 },
 "nbformat": 4,
 "nbformat_minor": 0
}
