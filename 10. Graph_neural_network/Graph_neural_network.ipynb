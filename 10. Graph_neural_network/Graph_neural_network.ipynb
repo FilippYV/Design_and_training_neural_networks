{
 "cells": [
  {
   "cell_type": "code",
   "execution_count": 1,
   "id": "initial_id",
   "metadata": {
    "collapsed": true,
    "ExecuteTime": {
     "end_time": "2023-11-23T01:32:43.308113900Z",
     "start_time": "2023-11-23T01:32:42.485114600Z"
    }
   },
   "outputs": [],
   "source": [
    "import networkx as nx\n",
    "import pandas as pd\n",
    "import random\n",
    "\n",
    "# Создаем случайный граф\n",
    "num_nodes = 50\n",
    "prob_edge_creation = 0.2\n",
    "\n",
    "graph = nx.fast_gnp_random_graph(num_nodes, prob_edge_creation)\n",
    "\n",
    "# Генерируем случайные признаки для узлов\n",
    "node_features = {node: {'feature1': random.uniform(0, 1), 'feature2': random.uniform(0, 1)} for node in graph.nodes()}\n",
    "\n",
    "# Создаем DataFrame для хранения данных узлов\n",
    "data = pd.DataFrame.from_dict(node_features, orient='index')\n",
    "\n",
    "# Добавляем метки классов (пусть будет случайная классификация)\n",
    "data['label'] = [random.choice([0, 1]) for _ in range(num_nodes)]\n",
    "\n",
    "# Создаем CSV файл\n",
    "data.to_csv('graph_data.csv', index_label='node_id')"
   ]
  },
  {
   "cell_type": "code",
   "execution_count": 2,
   "outputs": [],
   "source": [
    "import networkx as nx\n",
    "import pandas as pd\n",
    "import random\n",
    "\n",
    "# Создаем случайный граф\n",
    "num_nodes = 50\n",
    "prob_edge_creation = 0.2\n",
    "\n",
    "graph = nx.fast_gnp_random_graph(num_nodes, prob_edge_creation)\n",
    "\n",
    "# Генерируем случайные признаки для узлов\n",
    "node_features = {node: {'feature1': random.uniform(0, 1), 'feature2': random.uniform(0, 1)} for node in graph.nodes()}\n",
    "\n",
    "# Создаем DataFrame для хранения данных узлов\n",
    "data = pd.DataFrame.from_dict(node_features, orient='index')\n",
    "\n",
    "# Добавляем метки классов (пусть будет случайная классификация)\n",
    "data['label'] = [random.choice([0, 1]) for _ in range(num_nodes)]\n",
    "\n",
    "# Создаем CSV файл\n",
    "data.to_csv('graph_data_test.csv', index_label='node_id')"
   ],
   "metadata": {
    "collapsed": false,
    "ExecuteTime": {
     "end_time": "2023-11-23T01:32:43.349113300Z",
     "start_time": "2023-11-23T01:32:43.311113600Z"
    }
   },
   "id": "86abf60417d01206"
  },
  {
   "cell_type": "code",
   "execution_count": 3,
   "outputs": [],
   "source": [
    "import networkx as nx\n",
    "import pandas as pd\n",
    "import random\n",
    "\n",
    "# Создание случайного графа\n",
    "num_nodes = 100\n",
    "num_edges = 300\n",
    "num_communities = 5\n",
    "\n",
    "# Создание графа с сообществами\n",
    "G = nx.barbell_graph(num_nodes // 2, 0)\n",
    "communities = [random.randint(0, num_communities - 1) for _ in range(num_nodes)]\n",
    "\n",
    "for node, comm in enumerate(communities):\n",
    "    G.nodes[node]['community'] = comm\n",
    "\n",
    "# Генерация датасета\n",
    "dataset = []\n",
    "for edge in G.edges():\n",
    "    node1, node2 = edge\n",
    "    community1 = G.nodes[node1]['community']\n",
    "    community2 = G.nodes[node2]['community']\n",
    "    is_same_community = 1 if community1 == community2 else 0\n",
    "    dataset.append([node1, node2, is_same_community])\n",
    "\n",
    "# Создание DataFrame и сохранение в CSV\n",
    "df = pd.DataFrame(dataset, columns=['node1', 'node2', 'same_community'])\n",
    "df.to_csv('community_detection_dataset.csv', index=False)\n"
   ],
   "metadata": {
    "collapsed": false,
    "ExecuteTime": {
     "end_time": "2023-11-23T01:32:43.372113300Z",
     "start_time": "2023-11-23T01:32:43.342115700Z"
    }
   },
   "id": "986c64abf8dcd734"
  },
  {
   "cell_type": "code",
   "execution_count": 7,
   "outputs": [
    {
     "data": {
      "text/plain": "    node_id  feature1  feature2  label\n0         0  0.484558  0.823100      0\n1         1  0.768836  0.448409      1\n2         2  0.344903  0.863149      1\n3         3  0.189049  0.065300      0\n4         4  0.689934  0.159640      1\n5         5  0.738604  0.865679      1\n6         6  0.332164  0.698051      1\n7         7  0.884921  0.620023      0\n8         8  0.492025  0.441091      0\n9         9  0.394353  0.783719      1\n10       10  0.459887  0.404865      0\n11       11  0.183477  0.397549      1\n12       12  0.906608  0.071393      0\n13       13  0.483081  0.726765      0\n14       14  0.738388  0.544469      0\n15       15  0.816584  0.958813      0\n16       16  0.222385  0.726143      0\n17       17  0.534289  0.644149      1\n18       18  0.850081  0.084696      1\n19       19  0.313662  0.055867      0\n20       20  0.639658  0.635760      1\n21       21  0.972175  0.011011      0\n22       22  0.104908  0.955008      0\n23       23  0.595604  0.390082      0\n24       24  0.785208  0.829508      1\n25       25  0.052873  0.787689      0\n26       26  0.528435  0.280461      1\n27       27  0.815839  0.026554      1\n28       28  0.197415  0.588692      1\n29       29  0.572965  0.941055      1\n30       30  0.245308  0.303969      1\n31       31  0.608310  0.813067      0\n32       32  0.775730  0.997342      1\n33       33  0.334353  0.713385      0\n34       34  0.394797  0.645323      1\n35       35  0.539446  0.177730      0\n36       36  0.426697  0.500802      0\n37       37  0.986639  0.067170      1\n38       38  0.193721  0.510574      0\n39       39  0.608339  0.970633      1\n40       40  0.974304  0.939780      1\n41       41  0.497747  0.485451      0\n42       42  0.360233  0.824439      0\n43       43  0.286738  0.665874      0\n44       44  0.253779  0.825873      0\n45       45  0.560517  0.890915      1\n46       46  0.709041  0.520786      0\n47       47  0.669586  0.291246      0\n48       48  0.230512  0.108413      1\n49       49  0.372576  0.518685      1",
      "text/html": "<div>\n<style scoped>\n    .dataframe tbody tr th:only-of-type {\n        vertical-align: middle;\n    }\n\n    .dataframe tbody tr th {\n        vertical-align: top;\n    }\n\n    .dataframe thead th {\n        text-align: right;\n    }\n</style>\n<table border=\"1\" class=\"dataframe\">\n  <thead>\n    <tr style=\"text-align: right;\">\n      <th></th>\n      <th>node_id</th>\n      <th>feature1</th>\n      <th>feature2</th>\n      <th>label</th>\n    </tr>\n  </thead>\n  <tbody>\n    <tr>\n      <th>0</th>\n      <td>0</td>\n      <td>0.484558</td>\n      <td>0.823100</td>\n      <td>0</td>\n    </tr>\n    <tr>\n      <th>1</th>\n      <td>1</td>\n      <td>0.768836</td>\n      <td>0.448409</td>\n      <td>1</td>\n    </tr>\n    <tr>\n      <th>2</th>\n      <td>2</td>\n      <td>0.344903</td>\n      <td>0.863149</td>\n      <td>1</td>\n    </tr>\n    <tr>\n      <th>3</th>\n      <td>3</td>\n      <td>0.189049</td>\n      <td>0.065300</td>\n      <td>0</td>\n    </tr>\n    <tr>\n      <th>4</th>\n      <td>4</td>\n      <td>0.689934</td>\n      <td>0.159640</td>\n      <td>1</td>\n    </tr>\n    <tr>\n      <th>5</th>\n      <td>5</td>\n      <td>0.738604</td>\n      <td>0.865679</td>\n      <td>1</td>\n    </tr>\n    <tr>\n      <th>6</th>\n      <td>6</td>\n      <td>0.332164</td>\n      <td>0.698051</td>\n      <td>1</td>\n    </tr>\n    <tr>\n      <th>7</th>\n      <td>7</td>\n      <td>0.884921</td>\n      <td>0.620023</td>\n      <td>0</td>\n    </tr>\n    <tr>\n      <th>8</th>\n      <td>8</td>\n      <td>0.492025</td>\n      <td>0.441091</td>\n      <td>0</td>\n    </tr>\n    <tr>\n      <th>9</th>\n      <td>9</td>\n      <td>0.394353</td>\n      <td>0.783719</td>\n      <td>1</td>\n    </tr>\n    <tr>\n      <th>10</th>\n      <td>10</td>\n      <td>0.459887</td>\n      <td>0.404865</td>\n      <td>0</td>\n    </tr>\n    <tr>\n      <th>11</th>\n      <td>11</td>\n      <td>0.183477</td>\n      <td>0.397549</td>\n      <td>1</td>\n    </tr>\n    <tr>\n      <th>12</th>\n      <td>12</td>\n      <td>0.906608</td>\n      <td>0.071393</td>\n      <td>0</td>\n    </tr>\n    <tr>\n      <th>13</th>\n      <td>13</td>\n      <td>0.483081</td>\n      <td>0.726765</td>\n      <td>0</td>\n    </tr>\n    <tr>\n      <th>14</th>\n      <td>14</td>\n      <td>0.738388</td>\n      <td>0.544469</td>\n      <td>0</td>\n    </tr>\n    <tr>\n      <th>15</th>\n      <td>15</td>\n      <td>0.816584</td>\n      <td>0.958813</td>\n      <td>0</td>\n    </tr>\n    <tr>\n      <th>16</th>\n      <td>16</td>\n      <td>0.222385</td>\n      <td>0.726143</td>\n      <td>0</td>\n    </tr>\n    <tr>\n      <th>17</th>\n      <td>17</td>\n      <td>0.534289</td>\n      <td>0.644149</td>\n      <td>1</td>\n    </tr>\n    <tr>\n      <th>18</th>\n      <td>18</td>\n      <td>0.850081</td>\n      <td>0.084696</td>\n      <td>1</td>\n    </tr>\n    <tr>\n      <th>19</th>\n      <td>19</td>\n      <td>0.313662</td>\n      <td>0.055867</td>\n      <td>0</td>\n    </tr>\n    <tr>\n      <th>20</th>\n      <td>20</td>\n      <td>0.639658</td>\n      <td>0.635760</td>\n      <td>1</td>\n    </tr>\n    <tr>\n      <th>21</th>\n      <td>21</td>\n      <td>0.972175</td>\n      <td>0.011011</td>\n      <td>0</td>\n    </tr>\n    <tr>\n      <th>22</th>\n      <td>22</td>\n      <td>0.104908</td>\n      <td>0.955008</td>\n      <td>0</td>\n    </tr>\n    <tr>\n      <th>23</th>\n      <td>23</td>\n      <td>0.595604</td>\n      <td>0.390082</td>\n      <td>0</td>\n    </tr>\n    <tr>\n      <th>24</th>\n      <td>24</td>\n      <td>0.785208</td>\n      <td>0.829508</td>\n      <td>1</td>\n    </tr>\n    <tr>\n      <th>25</th>\n      <td>25</td>\n      <td>0.052873</td>\n      <td>0.787689</td>\n      <td>0</td>\n    </tr>\n    <tr>\n      <th>26</th>\n      <td>26</td>\n      <td>0.528435</td>\n      <td>0.280461</td>\n      <td>1</td>\n    </tr>\n    <tr>\n      <th>27</th>\n      <td>27</td>\n      <td>0.815839</td>\n      <td>0.026554</td>\n      <td>1</td>\n    </tr>\n    <tr>\n      <th>28</th>\n      <td>28</td>\n      <td>0.197415</td>\n      <td>0.588692</td>\n      <td>1</td>\n    </tr>\n    <tr>\n      <th>29</th>\n      <td>29</td>\n      <td>0.572965</td>\n      <td>0.941055</td>\n      <td>1</td>\n    </tr>\n    <tr>\n      <th>30</th>\n      <td>30</td>\n      <td>0.245308</td>\n      <td>0.303969</td>\n      <td>1</td>\n    </tr>\n    <tr>\n      <th>31</th>\n      <td>31</td>\n      <td>0.608310</td>\n      <td>0.813067</td>\n      <td>0</td>\n    </tr>\n    <tr>\n      <th>32</th>\n      <td>32</td>\n      <td>0.775730</td>\n      <td>0.997342</td>\n      <td>1</td>\n    </tr>\n    <tr>\n      <th>33</th>\n      <td>33</td>\n      <td>0.334353</td>\n      <td>0.713385</td>\n      <td>0</td>\n    </tr>\n    <tr>\n      <th>34</th>\n      <td>34</td>\n      <td>0.394797</td>\n      <td>0.645323</td>\n      <td>1</td>\n    </tr>\n    <tr>\n      <th>35</th>\n      <td>35</td>\n      <td>0.539446</td>\n      <td>0.177730</td>\n      <td>0</td>\n    </tr>\n    <tr>\n      <th>36</th>\n      <td>36</td>\n      <td>0.426697</td>\n      <td>0.500802</td>\n      <td>0</td>\n    </tr>\n    <tr>\n      <th>37</th>\n      <td>37</td>\n      <td>0.986639</td>\n      <td>0.067170</td>\n      <td>1</td>\n    </tr>\n    <tr>\n      <th>38</th>\n      <td>38</td>\n      <td>0.193721</td>\n      <td>0.510574</td>\n      <td>0</td>\n    </tr>\n    <tr>\n      <th>39</th>\n      <td>39</td>\n      <td>0.608339</td>\n      <td>0.970633</td>\n      <td>1</td>\n    </tr>\n    <tr>\n      <th>40</th>\n      <td>40</td>\n      <td>0.974304</td>\n      <td>0.939780</td>\n      <td>1</td>\n    </tr>\n    <tr>\n      <th>41</th>\n      <td>41</td>\n      <td>0.497747</td>\n      <td>0.485451</td>\n      <td>0</td>\n    </tr>\n    <tr>\n      <th>42</th>\n      <td>42</td>\n      <td>0.360233</td>\n      <td>0.824439</td>\n      <td>0</td>\n    </tr>\n    <tr>\n      <th>43</th>\n      <td>43</td>\n      <td>0.286738</td>\n      <td>0.665874</td>\n      <td>0</td>\n    </tr>\n    <tr>\n      <th>44</th>\n      <td>44</td>\n      <td>0.253779</td>\n      <td>0.825873</td>\n      <td>0</td>\n    </tr>\n    <tr>\n      <th>45</th>\n      <td>45</td>\n      <td>0.560517</td>\n      <td>0.890915</td>\n      <td>1</td>\n    </tr>\n    <tr>\n      <th>46</th>\n      <td>46</td>\n      <td>0.709041</td>\n      <td>0.520786</td>\n      <td>0</td>\n    </tr>\n    <tr>\n      <th>47</th>\n      <td>47</td>\n      <td>0.669586</td>\n      <td>0.291246</td>\n      <td>0</td>\n    </tr>\n    <tr>\n      <th>48</th>\n      <td>48</td>\n      <td>0.230512</td>\n      <td>0.108413</td>\n      <td>1</td>\n    </tr>\n    <tr>\n      <th>49</th>\n      <td>49</td>\n      <td>0.372576</td>\n      <td>0.518685</td>\n      <td>1</td>\n    </tr>\n  </tbody>\n</table>\n</div>"
     },
     "execution_count": 7,
     "metadata": {},
     "output_type": "execute_result"
    }
   ],
   "source": [
    "import pandas as pd\n",
    "x = pd.read_csv('graph_data.csv')\n",
    "x"
   ],
   "metadata": {
    "collapsed": false,
    "ExecuteTime": {
     "end_time": "2023-11-23T01:37:02.548897600Z",
     "start_time": "2023-11-23T01:37:02.468897500Z"
    }
   },
   "id": "28a167188ab7532f"
  }
 ],
 "metadata": {
  "kernelspec": {
   "display_name": "Python 3",
   "language": "python",
   "name": "python3"
  },
  "language_info": {
   "codemirror_mode": {
    "name": "ipython",
    "version": 2
   },
   "file_extension": ".py",
   "mimetype": "text/x-python",
   "name": "python",
   "nbconvert_exporter": "python",
   "pygments_lexer": "ipython2",
   "version": "2.7.6"
  }
 },
 "nbformat": 4,
 "nbformat_minor": 5
}
