{
 "cells": [
  {
   "cell_type": "code",
   "execution_count": 1,
   "id": "initial_id",
   "metadata": {
    "collapsed": true,
    "ExecuteTime": {
     "end_time": "2023-11-15T23:01:51.071781300Z",
     "start_time": "2023-11-15T23:01:50.298459500Z"
    }
   },
   "outputs": [],
   "source": [
    "import networkx as nx\n",
    "import pandas as pd\n",
    "import random\n",
    "\n",
    "# Создаем случайный граф\n",
    "num_nodes = 50\n",
    "prob_edge_creation = 0.2\n",
    "\n",
    "graph = nx.fast_gnp_random_graph(num_nodes, prob_edge_creation)\n",
    "\n",
    "# Генерируем случайные признаки для узлов\n",
    "node_features = {node: {'feature1': random.uniform(0, 1), 'feature2': random.uniform(0, 1)} for node in graph.nodes()}\n",
    "\n",
    "# Создаем DataFrame для хранения данных узлов\n",
    "data = pd.DataFrame.from_dict(node_features, orient='index')\n",
    "\n",
    "# Добавляем метки классов (пусть будет случайная классификация)\n",
    "data['label'] = [random.choice([0, 1]) for _ in range(num_nodes)]\n",
    "\n",
    "# Создаем CSV файл\n",
    "data.to_csv('graph_data.csv', index_label='node_id')"
   ]
  },
  {
   "cell_type": "code",
   "execution_count": 2,
   "outputs": [],
   "source": [
    "import networkx as nx\n",
    "import pandas as pd\n",
    "import random\n",
    "\n",
    "# Создаем случайный граф\n",
    "num_nodes = 50\n",
    "prob_edge_creation = 0.2\n",
    "\n",
    "graph = nx.fast_gnp_random_graph(num_nodes, prob_edge_creation)\n",
    "\n",
    "# Генерируем случайные признаки для узлов\n",
    "node_features = {node: {'feature1': random.uniform(0, 1), 'feature2': random.uniform(0, 1)} for node in graph.nodes()}\n",
    "\n",
    "# Создаем DataFrame для хранения данных узлов\n",
    "data = pd.DataFrame.from_dict(node_features, orient='index')\n",
    "\n",
    "# Добавляем метки классов (пусть будет случайная классификация)\n",
    "data['label'] = [random.choice([0, 1]) for _ in range(num_nodes)]\n",
    "\n",
    "# Создаем CSV файл\n",
    "data.to_csv('graph_data_test.csv', index_label='node_id')"
   ],
   "metadata": {
    "collapsed": false,
    "ExecuteTime": {
     "end_time": "2023-11-15T23:15:08.512841900Z",
     "start_time": "2023-11-15T23:15:08.500997700Z"
    }
   },
   "id": "86abf60417d01206"
  },
  {
   "cell_type": "code",
   "execution_count": 6,
   "outputs": [],
   "source": [
    "import networkx as nx\n",
    "import pandas as pd\n",
    "import random\n",
    "\n",
    "# Создание случайного графа\n",
    "num_nodes = 100\n",
    "num_edges = 300\n",
    "num_communities = 5\n",
    "\n",
    "# Создание графа с сообществами\n",
    "G = nx.barbell_graph(num_nodes // 2, 0)\n",
    "communities = [random.randint(0, num_communities - 1) for _ in range(num_nodes)]\n",
    "\n",
    "for node, comm in enumerate(communities):\n",
    "    G.nodes[node]['community'] = comm\n",
    "\n",
    "# Генерация датасета\n",
    "dataset = []\n",
    "for edge in G.edges():\n",
    "    node1, node2 = edge\n",
    "    community1 = G.nodes[node1]['community']\n",
    "    community2 = G.nodes[node2]['community']\n",
    "    is_same_community = 1 if community1 == community2 else 0\n",
    "    dataset.append([node1, node2, is_same_community])\n",
    "\n",
    "# Создание DataFrame и сохранение в CSV\n",
    "df = pd.DataFrame(dataset, columns=['node1', 'node2', 'same_community'])\n",
    "df.to_csv('community_detection_dataset.csv', index=False)\n"
   ],
   "metadata": {
    "collapsed": false,
    "ExecuteTime": {
     "end_time": "2023-11-16T00:18:36.905466700Z",
     "start_time": "2023-11-16T00:18:36.880465100Z"
    }
   },
   "id": "986c64abf8dcd734"
  }
 ],
 "metadata": {
  "kernelspec": {
   "display_name": "Python 3",
   "language": "python",
   "name": "python3"
  },
  "language_info": {
   "codemirror_mode": {
    "name": "ipython",
    "version": 2
   },
   "file_extension": ".py",
   "mimetype": "text/x-python",
   "name": "python",
   "nbconvert_exporter": "python",
   "pygments_lexer": "ipython2",
   "version": "2.7.6"
  }
 },
 "nbformat": 4,
 "nbformat_minor": 5
}
