{
 "cells": [
  {
   "cell_type": "code",
   "execution_count": 1,
   "id": "initial_id",
   "metadata": {
    "collapsed": true,
    "ExecuteTime": {
     "end_time": "2023-11-15T23:01:51.071781300Z",
     "start_time": "2023-11-15T23:01:50.298459500Z"
    }
   },
   "outputs": [],
   "source": [
    "import networkx as nx\n",
    "import pandas as pd\n",
    "import random\n",
    "\n",
    "# Создаем случайный граф\n",
    "num_nodes = 50\n",
    "prob_edge_creation = 0.2\n",
    "\n",
    "graph = nx.fast_gnp_random_graph(num_nodes, prob_edge_creation)\n",
    "\n",
    "# Генерируем случайные признаки для узлов\n",
    "node_features = {node: {'feature1': random.uniform(0, 1), 'feature2': random.uniform(0, 1)} for node in graph.nodes()}\n",
    "\n",
    "# Создаем DataFrame для хранения данных узлов\n",
    "data = pd.DataFrame.from_dict(node_features, orient='index')\n",
    "\n",
    "# Добавляем метки классов (пусть будет случайная классификация)\n",
    "data['label'] = [random.choice([0, 1]) for _ in range(num_nodes)]\n",
    "\n",
    "# Создаем CSV файл\n",
    "data.to_csv('graph_data.csv', index_label='node_id')"
   ]
  },
  {
   "cell_type": "code",
   "execution_count": 2,
   "outputs": [],
   "source": [
    "import networkx as nx\n",
    "import pandas as pd\n",
    "import random\n",
    "\n",
    "# Создаем случайный граф\n",
    "num_nodes = 50\n",
    "prob_edge_creation = 0.2\n",
    "\n",
    "graph = nx.fast_gnp_random_graph(num_nodes, prob_edge_creation)\n",
    "\n",
    "# Генерируем случайные признаки для узлов\n",
    "node_features = {node: {'feature1': random.uniform(0, 1), 'feature2': random.uniform(0, 1)} for node in graph.nodes()}\n",
    "\n",
    "# Создаем DataFrame для хранения данных узлов\n",
    "data = pd.DataFrame.from_dict(node_features, orient='index')\n",
    "\n",
    "# Добавляем метки классов (пусть будет случайная классификация)\n",
    "data['label'] = [random.choice([0, 1]) for _ in range(num_nodes)]\n",
    "\n",
    "# Создаем CSV файл\n",
    "data.to_csv('graph_data_test.csv', index_label='node_id')"
   ],
   "metadata": {
    "collapsed": false,
    "ExecuteTime": {
     "end_time": "2023-11-15T23:15:08.512841900Z",
     "start_time": "2023-11-15T23:15:08.500997700Z"
    }
   },
   "id": "86abf60417d01206"
  }
 ],
 "metadata": {
  "kernelspec": {
   "display_name": "Python 3",
   "language": "python",
   "name": "python3"
  },
  "language_info": {
   "codemirror_mode": {
    "name": "ipython",
    "version": 2
   },
   "file_extension": ".py",
   "mimetype": "text/x-python",
   "name": "python",
   "nbconvert_exporter": "python",
   "pygments_lexer": "ipython2",
   "version": "2.7.6"
  }
 },
 "nbformat": 4,
 "nbformat_minor": 5
}
