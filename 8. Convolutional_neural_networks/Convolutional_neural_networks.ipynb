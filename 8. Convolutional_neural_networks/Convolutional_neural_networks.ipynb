{
 "cells": [
  {
   "cell_type": "code",
   "execution_count": 4,
   "outputs": [],
   "source": [
    "import numpy as np\n",
    "import pandas as pd\n",
    "import random"
   ],
   "metadata": {
    "collapsed": false,
    "ExecuteTime": {
     "end_time": "2023-11-14T12:15:30.971905800Z",
     "start_time": "2023-11-14T12:15:30.958906Z"
    }
   },
   "id": "433c41cca79a453b"
  },
  {
   "cell_type": "code",
   "execution_count": 5,
   "outputs": [],
   "source": [
    "from sklearn.preprocessing import OneHotEncoder\n",
    "\n",
    "\n",
    "def get_train_data():\n",
    "    data_train = pd.read_csv('../Datasets/Fashion MNIST/fashion-mnist_train.csv')\n",
    "    X_train = data_train.drop(['label'], axis=1).to_numpy()\n",
    "    X_train = X_train.reshape((X_train.shape[0], 28, 28))\n",
    "\n",
    "    y_train = data_train['label'].to_numpy().reshape(-1, 1)  # Изменение формы массива\n",
    "    encoder = OneHotEncoder(sparse=False)\n",
    "    y_train_one_hot = encoder.fit_transform(y_train)\n",
    "\n",
    "    return X_train / 255, y_train_one_hot"
   ],
   "metadata": {
    "collapsed": false,
    "ExecuteTime": {
     "end_time": "2023-11-14T12:15:31.000915500Z",
     "start_time": "2023-11-14T12:15:30.966908Z"
    }
   },
   "id": "ceb5b51de162a059"
  },
  {
   "cell_type": "code",
   "execution_count": 6,
   "outputs": [
    {
     "ename": "ParserError",
     "evalue": "Error tokenizing data. C error: Calling read(nbytes) on source failed. Try engine='python'.",
     "output_type": "error",
     "traceback": [
      "\u001B[1;31m---------------------------------------------------------------------------\u001B[0m",
      "\u001B[1;31mParserError\u001B[0m                               Traceback (most recent call last)",
      "Cell \u001B[1;32mIn[6], line 1\u001B[0m\n\u001B[1;32m----> 1\u001B[0m X_train, y_train \u001B[38;5;241m=\u001B[39m \u001B[43mget_train_data\u001B[49m\u001B[43m(\u001B[49m\u001B[43m)\u001B[49m\n",
      "Cell \u001B[1;32mIn[5], line 4\u001B[0m, in \u001B[0;36mget_train_data\u001B[1;34m()\u001B[0m\n\u001B[0;32m      3\u001B[0m \u001B[38;5;28;01mdef\u001B[39;00m \u001B[38;5;21mget_train_data\u001B[39m():\n\u001B[1;32m----> 4\u001B[0m     data_train \u001B[38;5;241m=\u001B[39m \u001B[43mpd\u001B[49m\u001B[38;5;241;43m.\u001B[39;49m\u001B[43mread_csv\u001B[49m\u001B[43m(\u001B[49m\u001B[38;5;124;43m'\u001B[39;49m\u001B[38;5;124;43m../Datasets/Fashion MNIST/fashion-mnist_train.csv\u001B[39;49m\u001B[38;5;124;43m'\u001B[39;49m\u001B[43m)\u001B[49m\n\u001B[0;32m      5\u001B[0m     X_train \u001B[38;5;241m=\u001B[39m data_train\u001B[38;5;241m.\u001B[39mdrop([\u001B[38;5;124m'\u001B[39m\u001B[38;5;124mlabel\u001B[39m\u001B[38;5;124m'\u001B[39m], axis\u001B[38;5;241m=\u001B[39m\u001B[38;5;241m1\u001B[39m)\u001B[38;5;241m.\u001B[39mto_numpy()\n\u001B[0;32m      6\u001B[0m     X_train \u001B[38;5;241m=\u001B[39m X_train\u001B[38;5;241m.\u001B[39mreshape((X_train\u001B[38;5;241m.\u001B[39mshape[\u001B[38;5;241m0\u001B[39m], \u001B[38;5;241m28\u001B[39m, \u001B[38;5;241m28\u001B[39m))\n",
      "File \u001B[1;32mD:\\PycharmProjects\\Design_and_training_neural_networks\\venv\\lib\\site-packages\\pandas\\io\\parsers\\readers.py:948\u001B[0m, in \u001B[0;36mread_csv\u001B[1;34m(filepath_or_buffer, sep, delimiter, header, names, index_col, usecols, dtype, engine, converters, true_values, false_values, skipinitialspace, skiprows, skipfooter, nrows, na_values, keep_default_na, na_filter, verbose, skip_blank_lines, parse_dates, infer_datetime_format, keep_date_col, date_parser, date_format, dayfirst, cache_dates, iterator, chunksize, compression, thousands, decimal, lineterminator, quotechar, quoting, doublequote, escapechar, comment, encoding, encoding_errors, dialect, on_bad_lines, delim_whitespace, low_memory, memory_map, float_precision, storage_options, dtype_backend)\u001B[0m\n\u001B[0;32m    935\u001B[0m kwds_defaults \u001B[38;5;241m=\u001B[39m _refine_defaults_read(\n\u001B[0;32m    936\u001B[0m     dialect,\n\u001B[0;32m    937\u001B[0m     delimiter,\n\u001B[1;32m   (...)\u001B[0m\n\u001B[0;32m    944\u001B[0m     dtype_backend\u001B[38;5;241m=\u001B[39mdtype_backend,\n\u001B[0;32m    945\u001B[0m )\n\u001B[0;32m    946\u001B[0m kwds\u001B[38;5;241m.\u001B[39mupdate(kwds_defaults)\n\u001B[1;32m--> 948\u001B[0m \u001B[38;5;28;01mreturn\u001B[39;00m \u001B[43m_read\u001B[49m\u001B[43m(\u001B[49m\u001B[43mfilepath_or_buffer\u001B[49m\u001B[43m,\u001B[49m\u001B[43m \u001B[49m\u001B[43mkwds\u001B[49m\u001B[43m)\u001B[49m\n",
      "File \u001B[1;32mD:\\PycharmProjects\\Design_and_training_neural_networks\\venv\\lib\\site-packages\\pandas\\io\\parsers\\readers.py:617\u001B[0m, in \u001B[0;36m_read\u001B[1;34m(filepath_or_buffer, kwds)\u001B[0m\n\u001B[0;32m    614\u001B[0m     \u001B[38;5;28;01mreturn\u001B[39;00m parser\n\u001B[0;32m    616\u001B[0m \u001B[38;5;28;01mwith\u001B[39;00m parser:\n\u001B[1;32m--> 617\u001B[0m     \u001B[38;5;28;01mreturn\u001B[39;00m \u001B[43mparser\u001B[49m\u001B[38;5;241;43m.\u001B[39;49m\u001B[43mread\u001B[49m\u001B[43m(\u001B[49m\u001B[43mnrows\u001B[49m\u001B[43m)\u001B[49m\n",
      "File \u001B[1;32mD:\\PycharmProjects\\Design_and_training_neural_networks\\venv\\lib\\site-packages\\pandas\\io\\parsers\\readers.py:1748\u001B[0m, in \u001B[0;36mTextFileReader.read\u001B[1;34m(self, nrows)\u001B[0m\n\u001B[0;32m   1741\u001B[0m nrows \u001B[38;5;241m=\u001B[39m validate_integer(\u001B[38;5;124m\"\u001B[39m\u001B[38;5;124mnrows\u001B[39m\u001B[38;5;124m\"\u001B[39m, nrows)\n\u001B[0;32m   1742\u001B[0m \u001B[38;5;28;01mtry\u001B[39;00m:\n\u001B[0;32m   1743\u001B[0m     \u001B[38;5;66;03m# error: \"ParserBase\" has no attribute \"read\"\u001B[39;00m\n\u001B[0;32m   1744\u001B[0m     (\n\u001B[0;32m   1745\u001B[0m         index,\n\u001B[0;32m   1746\u001B[0m         columns,\n\u001B[0;32m   1747\u001B[0m         col_dict,\n\u001B[1;32m-> 1748\u001B[0m     ) \u001B[38;5;241m=\u001B[39m \u001B[38;5;28;43mself\u001B[39;49m\u001B[38;5;241;43m.\u001B[39;49m\u001B[43m_engine\u001B[49m\u001B[38;5;241;43m.\u001B[39;49m\u001B[43mread\u001B[49m\u001B[43m(\u001B[49m\u001B[43m  \u001B[49m\u001B[38;5;66;43;03m# type: ignore[attr-defined]\u001B[39;49;00m\n\u001B[0;32m   1749\u001B[0m \u001B[43m        \u001B[49m\u001B[43mnrows\u001B[49m\n\u001B[0;32m   1750\u001B[0m \u001B[43m    \u001B[49m\u001B[43m)\u001B[49m\n\u001B[0;32m   1751\u001B[0m \u001B[38;5;28;01mexcept\u001B[39;00m \u001B[38;5;167;01mException\u001B[39;00m:\n\u001B[0;32m   1752\u001B[0m     \u001B[38;5;28mself\u001B[39m\u001B[38;5;241m.\u001B[39mclose()\n",
      "File \u001B[1;32mD:\\PycharmProjects\\Design_and_training_neural_networks\\venv\\lib\\site-packages\\pandas\\io\\parsers\\c_parser_wrapper.py:234\u001B[0m, in \u001B[0;36mCParserWrapper.read\u001B[1;34m(self, nrows)\u001B[0m\n\u001B[0;32m    232\u001B[0m \u001B[38;5;28;01mtry\u001B[39;00m:\n\u001B[0;32m    233\u001B[0m     \u001B[38;5;28;01mif\u001B[39;00m \u001B[38;5;28mself\u001B[39m\u001B[38;5;241m.\u001B[39mlow_memory:\n\u001B[1;32m--> 234\u001B[0m         chunks \u001B[38;5;241m=\u001B[39m \u001B[38;5;28;43mself\u001B[39;49m\u001B[38;5;241;43m.\u001B[39;49m\u001B[43m_reader\u001B[49m\u001B[38;5;241;43m.\u001B[39;49m\u001B[43mread_low_memory\u001B[49m\u001B[43m(\u001B[49m\u001B[43mnrows\u001B[49m\u001B[43m)\u001B[49m\n\u001B[0;32m    235\u001B[0m         \u001B[38;5;66;03m# destructive to chunks\u001B[39;00m\n\u001B[0;32m    236\u001B[0m         data \u001B[38;5;241m=\u001B[39m _concatenate_chunks(chunks)\n",
      "File \u001B[1;32mparsers.pyx:843\u001B[0m, in \u001B[0;36mpandas._libs.parsers.TextReader.read_low_memory\u001B[1;34m()\u001B[0m\n",
      "File \u001B[1;32mparsers.pyx:904\u001B[0m, in \u001B[0;36mpandas._libs.parsers.TextReader._read_rows\u001B[1;34m()\u001B[0m\n",
      "File \u001B[1;32mparsers.pyx:879\u001B[0m, in \u001B[0;36mpandas._libs.parsers.TextReader._tokenize_rows\u001B[1;34m()\u001B[0m\n",
      "File \u001B[1;32mparsers.pyx:890\u001B[0m, in \u001B[0;36mpandas._libs.parsers.TextReader._check_tokenize_status\u001B[1;34m()\u001B[0m\n",
      "File \u001B[1;32mparsers.pyx:2058\u001B[0m, in \u001B[0;36mpandas._libs.parsers.raise_parser_error\u001B[1;34m()\u001B[0m\n",
      "\u001B[1;31mParserError\u001B[0m: Error tokenizing data. C error: Calling read(nbytes) on source failed. Try engine='python'."
     ]
    }
   ],
   "source": [
    "X_train, y_train = get_train_data()"
   ],
   "metadata": {
    "collapsed": false,
    "ExecuteTime": {
     "end_time": "2023-11-14T12:15:32.993074700Z",
     "start_time": "2023-11-14T12:15:30.983908500Z"
    }
   },
   "id": "98b5eb903d4517f2"
  },
  {
   "cell_type": "code",
   "execution_count": null,
   "outputs": [],
   "source": [
    "X_train"
   ],
   "metadata": {
    "collapsed": false,
    "ExecuteTime": {
     "end_time": "2023-11-14T12:15:33.000073400Z",
     "start_time": "2023-11-14T12:15:32.995072800Z"
    }
   },
   "id": "1967a9291fc4f793"
  },
  {
   "cell_type": "code",
   "execution_count": null,
   "outputs": [],
   "source": [
    "y_train"
   ],
   "metadata": {
    "collapsed": false,
    "ExecuteTime": {
     "start_time": "2023-11-14T12:15:32.997077800Z"
    }
   },
   "id": "ac647ea7c70775cd"
  },
  {
   "cell_type": "code",
   "execution_count": null,
   "outputs": [],
   "source": [],
   "metadata": {
    "collapsed": false,
    "ExecuteTime": {
     "start_time": "2023-11-14T12:15:32.999077100Z"
    }
   },
   "id": "a5020d1285aeafbb"
  },
  {
   "cell_type": "code",
   "execution_count": 13,
   "outputs": [
    {
     "name": "stderr",
     "output_type": "stream",
     "text": [
      "D:\\PycharmProjects\\Design_and_training_neural_networks\\venv\\lib\\site-packages\\sklearn\\preprocessing\\_encoders.py:975: FutureWarning: `sparse` was renamed to `sparse_output` in version 1.2 and will be removed in 1.4. `sparse_output` is ignored unless you leave `sparse` to its default value.\n",
      "  warnings.warn(\n"
     ]
    },
    {
     "ename": "ValueError",
     "evalue": "operands could not be broadcast together with shapes (1,3,28,1,1) (3,3,1,32) ",
     "output_type": "error",
     "traceback": [
      "\u001B[1;31m---------------------------------------------------------------------------\u001B[0m",
      "\u001B[1;31mValueError\u001B[0m                                Traceback (most recent call last)",
      "Cell \u001B[1;32mIn[13], line 130\u001B[0m\n\u001B[0;32m    128\u001B[0m num_classes \u001B[38;5;241m=\u001B[39m \u001B[38;5;241m10\u001B[39m\n\u001B[0;32m    129\u001B[0m simple_conv_net \u001B[38;5;241m=\u001B[39m CNN(input_shape, num_classes)\n\u001B[1;32m--> 130\u001B[0m \u001B[43msimple_conv_net\u001B[49m\u001B[38;5;241;43m.\u001B[39;49m\u001B[43mtrain\u001B[49m\u001B[43m(\u001B[49m\u001B[43mX_train\u001B[49m\u001B[43m,\u001B[49m\u001B[43m \u001B[49m\u001B[43my_train\u001B[49m\u001B[43m)\u001B[49m\n\u001B[0;32m    131\u001B[0m \u001B[38;5;66;03m# predictions = simple_conv_net.predict(X_test)\u001B[39;00m\n",
      "Cell \u001B[1;32mIn[13], line 82\u001B[0m, in \u001B[0;36mCNN.train\u001B[1;34m(self, X_train, y_train, learning_rate, epochs)\u001B[0m\n\u001B[0;32m     79\u001B[0m \u001B[38;5;28;01mfor\u001B[39;00m index, image \u001B[38;5;129;01min\u001B[39;00m \u001B[38;5;28menumerate\u001B[39m(X_train):\n\u001B[0;32m     80\u001B[0m     \u001B[38;5;66;03m# Расширение размерности для корректного проведения операции свертки\u001B[39;00m\n\u001B[0;32m     81\u001B[0m     image \u001B[38;5;241m=\u001B[39m image\u001B[38;5;241m.\u001B[39mreshape((\u001B[38;5;241m1\u001B[39m, \u001B[38;5;241m28\u001B[39m, \u001B[38;5;241m28\u001B[39m, \u001B[38;5;241m1\u001B[39m))\n\u001B[1;32m---> 82\u001B[0m     conv1_output \u001B[38;5;241m=\u001B[39m \u001B[38;5;28;43mself\u001B[39;49m\u001B[38;5;241;43m.\u001B[39;49m\u001B[43mconvolve2d\u001B[49m\u001B[43m(\u001B[49m\u001B[43mimage\u001B[49m\u001B[43m,\u001B[49m\u001B[43m \u001B[49m\u001B[38;5;28;43mself\u001B[39;49m\u001B[38;5;241;43m.\u001B[39;49m\u001B[43mfilters1\u001B[49m\u001B[43m)\u001B[49m\n\u001B[0;32m     83\u001B[0m     pool1_output \u001B[38;5;241m=\u001B[39m \u001B[38;5;28mself\u001B[39m\u001B[38;5;241m.\u001B[39mmax_pooling(conv1_output)\n\u001B[0;32m     85\u001B[0m     conv2_output \u001B[38;5;241m=\u001B[39m \u001B[38;5;28mself\u001B[39m\u001B[38;5;241m.\u001B[39mconvolve2d(pool1_output, \u001B[38;5;28mself\u001B[39m\u001B[38;5;241m.\u001B[39mfilters2)\n",
      "Cell \u001B[1;32mIn[13], line 40\u001B[0m, in \u001B[0;36mCNN.convolve2d\u001B[1;34m(self, input_data, filters)\u001B[0m\n\u001B[0;32m     37\u001B[0m \u001B[38;5;28;01mfor\u001B[39;00m i \u001B[38;5;129;01min\u001B[39;00m \u001B[38;5;28mrange\u001B[39m(output_height):\n\u001B[0;32m     38\u001B[0m     \u001B[38;5;28;01mfor\u001B[39;00m j \u001B[38;5;129;01min\u001B[39;00m \u001B[38;5;28mrange\u001B[39m(output_width):\n\u001B[0;32m     39\u001B[0m         output_data[i, j, :] \u001B[38;5;241m=\u001B[39m np\u001B[38;5;241m.\u001B[39msum(\n\u001B[1;32m---> 40\u001B[0m             \u001B[43minput_data\u001B[49m\u001B[43m[\u001B[49m\u001B[43mi\u001B[49m\u001B[43m:\u001B[49m\u001B[43mi\u001B[49m\u001B[43m \u001B[49m\u001B[38;5;241;43m+\u001B[39;49m\u001B[43m \u001B[49m\u001B[43mfilter_height\u001B[49m\u001B[43m,\u001B[49m\u001B[43m \u001B[49m\u001B[43mj\u001B[49m\u001B[43m:\u001B[49m\u001B[43mj\u001B[49m\u001B[43m \u001B[49m\u001B[38;5;241;43m+\u001B[39;49m\u001B[43m \u001B[49m\u001B[43mfilter_width\u001B[49m\u001B[43m,\u001B[49m\u001B[43m \u001B[49m\u001B[43m:\u001B[49m\u001B[43m,\u001B[49m\u001B[43m \u001B[49m\u001B[43mnp\u001B[49m\u001B[38;5;241;43m.\u001B[39;49m\u001B[43mnewaxis\u001B[49m\u001B[43m]\u001B[49m\u001B[43m \u001B[49m\u001B[38;5;241;43m*\u001B[39;49m\u001B[43m \u001B[49m\u001B[43mfilters\u001B[49m,\n\u001B[0;32m     41\u001B[0m             axis\u001B[38;5;241m=\u001B[39m(\u001B[38;5;241m0\u001B[39m, \u001B[38;5;241m1\u001B[39m, \u001B[38;5;241m2\u001B[39m, \u001B[38;5;241m3\u001B[39m)\n\u001B[0;32m     42\u001B[0m         )\n\u001B[0;32m     44\u001B[0m \u001B[38;5;28;01mreturn\u001B[39;00m output_data\n",
      "\u001B[1;31mValueError\u001B[0m: operands could not be broadcast together with shapes (1,3,28,1,1) (3,3,1,32) "
     ]
    }
   ],
   "source": [
    "import numpy as np\n",
    "import pandas as pd\n",
    "import random\n",
    "from sklearn.preprocessing import OneHotEncoder\n",
    "\n",
    "\n",
    "def get_train_data():\n",
    "    data_train = pd.read_csv('../Datasets/Fashion MNIST/fashion-mnist_train.csv')\n",
    "    X_train = data_train.drop(['label'], axis=1).to_numpy()\n",
    "    X_train = X_train.reshape((X_train.shape[0], 28, 28))\n",
    "\n",
    "    y_train = data_train['label'].to_numpy().reshape(-1, 1)  # Изменение формы массива\n",
    "    encoder = OneHotEncoder(sparse=False)\n",
    "    y_train_one_hot = encoder.fit_transform(y_train)\n",
    "\n",
    "    return X_train / 255, y_train_one_hot\n",
    "\n",
    "\n",
    "class CNN:\n",
    "    def __init__(self, input_size, num_classes):\n",
    "        self.input_size = input_size\n",
    "        self.num_classes = num_classes\n",
    "        self.filters1 = np.random.randn(3, 3, 1, 32)\n",
    "        self.filters2 = np.random.randn(3, 3, 32, 64)\n",
    "        self.weights_fc = np.random.randn(7 * 7 * 64, 100)\n",
    "        self.weights_output = np.random.randn(100, num_classes)\n",
    "\n",
    "    def convolve2d(self, input_data, filters):\n",
    "        _, height, width, depth = input_data.shape\n",
    "        filter_height, filter_width, _, num_filters = filters.shape\n",
    "    \n",
    "        output_height = height - filter_height + 1\n",
    "        output_width = width - filter_width + 1\n",
    "    \n",
    "        output_data = np.zeros((output_height, output_width, num_filters))\n",
    "    \n",
    "        for i in range(output_height):\n",
    "            for j in range(output_width):\n",
    "                output_data[i, j, :] = np.sum(\n",
    "                    input_data[i:i + filter_height, j:j + filter_width, :, np.newaxis] * filters,\n",
    "                    axis=(0, 1, 2, 3)\n",
    "                )\n",
    "    \n",
    "        return output_data\n",
    "\n",
    "    def max_pooling(self, input_data, pool_size=(2, 2)):\n",
    "        print('input_data.shape', input_data.shape)\n",
    "        print('pool_size', pool_size)\n",
    "        height, width, num_filters = input_data.shape\n",
    "        pool_height, pool_width = pool_size\n",
    "        \n",
    "    \n",
    "        output_height = height // pool_height\n",
    "        output_width = width // pool_width\n",
    "    \n",
    "        output_data = np.zeros((output_height, output_width, num_filters))\n",
    "    \n",
    "        for i in range(output_height):\n",
    "            for j in range(output_width):\n",
    "                output_data[i, j, :] = np.max(\n",
    "                    input_data[i * pool_height:(i + 1) * pool_height, j * pool_width:(j + 1) * pool_width],\n",
    "                    axis=(0, 1)\n",
    "                )\n",
    "    \n",
    "        return output_data\n",
    "\n",
    "    def flatten(self, input_data):\n",
    "        return input_data.reshape(-1)\n",
    "\n",
    "    def fully_connected(self, input_data, weights):\n",
    "        return np.dot(input_data, weights)\n",
    "\n",
    "    def softmax(self, x):\n",
    "        exp_x = np.exp(x - np.max(x))\n",
    "        return exp_x / exp_x.sum(axis=0, keepdims=True)\n",
    "\n",
    "    def train(self, X_train, y_train, learning_rate=0.01, epochs=10):\n",
    "        for epoch in range(epochs):\n",
    "            for index, image in enumerate(X_train):\n",
    "                # Расширение размерности для корректного проведения операции свертки\n",
    "                image = image.reshape((1, 28, 28, 1))\n",
    "                conv1_output = self.convolve2d(image, self.filters1)\n",
    "                pool1_output = self.max_pooling(conv1_output)\n",
    "\n",
    "                conv2_output = self.convolve2d(pool1_output, self.filters2)\n",
    "                pool2_output = self.max_pooling(conv2_output)\n",
    "\n",
    "                flattened_output = self.flatten(pool2_output)\n",
    "                fc_output = self.fully_connected(flattened_output, self.weights_fc)\n",
    "                fc_output_relu = np.maximum(0, fc_output)\n",
    "\n",
    "                output = self.fully_connected(fc_output_relu, self.weights_output)\n",
    "                predicted_probs = self.softmax(output)\n",
    "\n",
    "                loss_gradient = predicted_probs - y_train[index]\n",
    "                weights_output_gradient = np.outer(fc_output_relu, loss_gradient)\n",
    "                fc_output_gradient = np.dot(self.weights_output, loss_gradient)\n",
    "                fc_output_gradient[fc_output < 0] = 0\n",
    "                weights_fc_gradient = np.outer(flattened_output, fc_output_gradient)\n",
    "\n",
    "                self.weights_output -= learning_rate * weights_output_gradient\n",
    "                self.weights_fc -= learning_rate * weights_fc_gradient.reshape(self.weights_fc.shape)\n",
    "\n",
    "    def predict(self, X_test):\n",
    "        predictions = []\n",
    "        for image in X_test:\n",
    "            # Расширение размерности для корректного проведения операции свертки\n",
    "            image = image.reshape((1, 28, 28, 1))\n",
    "            conv1_output = self.convolve2d(image, self.filters1)\n",
    "            pool1_output = self.max_pooling(conv1_output)\n",
    "\n",
    "            conv2_output = self.convolve2d(pool1_output[np.newaxis, :], self.filters2)\n",
    "            pool2_output = self.max_pooling(conv2_output)\n",
    "\n",
    "            flattened_output = self.flatten(pool2_output)\n",
    "            fc_output = self.fully_connected(flattened_output, self.weights_fc)\n",
    "            fc_output_relu = np.maximum(0, fc_output)\n",
    "\n",
    "            output = self.fully_connected(fc_output_relu, self.weights_output)\n",
    "            predictions.append(output)\n",
    "\n",
    "        return predictions\n",
    "\n",
    "\n",
    "if __name__ == '__main__':\n",
    "    X_train, y_train = get_train_data()\n",
    "    input_shape = X_train.shape\n",
    "    num_classes = 10\n",
    "    simple_conv_net = CNN(input_shape, num_classes)\n",
    "    simple_conv_net.train(X_train, y_train)\n",
    "    # predictions = simple_conv_net.predict(X_test)\n"
   ],
   "metadata": {
    "collapsed": false,
    "ExecuteTime": {
     "end_time": "2023-11-14T12:20:58.681682200Z",
     "start_time": "2023-11-14T12:20:55.090712500Z"
    }
   },
   "id": "7af4f2348abb13e6"
  }
 ],
 "metadata": {
  "kernelspec": {
   "display_name": "Python 3 (ipykernel)",
   "language": "python",
   "name": "python3"
  },
  "language_info": {
   "codemirror_mode": {
    "name": "ipython",
    "version": 3
   },
   "file_extension": ".py",
   "mimetype": "text/x-python",
   "name": "python",
   "nbconvert_exporter": "python",
   "pygments_lexer": "ipython3",
   "version": "3.10.11"
  }
 },
 "nbformat": 4,
 "nbformat_minor": 5
}
