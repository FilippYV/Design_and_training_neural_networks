{
 "cells": [
  {
   "cell_type": "code",
   "execution_count": 1,
   "outputs": [],
   "source": [
    "import numpy as np\n",
    "import pandas as pd\n",
    "import random"
   ],
   "metadata": {
    "collapsed": false,
    "ExecuteTime": {
     "end_time": "2023-11-14T00:31:47.092823800Z",
     "start_time": "2023-11-14T00:31:46.666881900Z"
    }
   },
   "id": "433c41cca79a453b"
  },
  {
   "cell_type": "code",
   "execution_count": 2,
   "outputs": [],
   "source": [
    "def get_train_data():\n",
    "    data_train = pd.read_csv('../Datasets/Fashion MNIST/fashion-mnist_train.csv')\n",
    "    X_train = data_train.drop(['label'], axis=1).to_numpy()\n",
    "    X_train = X_train.reshape((X_train.shape[0], 28, 28, 1))  # Обновленный формат\n",
    "\n",
    "    y_train = data_train['label'].to_numpy()\n",
    "    # print('x_train\\n', X_train[:5])\n",
    "    # print()\n",
    "    # print('y_train\\n', y_train[:5])\n",
    "    return X_train, y_train"
   ],
   "metadata": {
    "collapsed": false,
    "ExecuteTime": {
     "end_time": "2023-11-14T00:31:47.108173200Z",
     "start_time": "2023-11-14T00:31:47.095571700Z"
    }
   },
   "id": "ceb5b51de162a059"
  },
  {
   "cell_type": "code",
   "execution_count": 3,
   "outputs": [],
   "source": [
    "X_train, y_train = get_train_data()"
   ],
   "metadata": {
    "collapsed": false,
    "ExecuteTime": {
     "end_time": "2023-11-14T00:31:49.986826200Z",
     "start_time": "2023-11-14T00:31:47.109172800Z"
    }
   },
   "id": "98b5eb903d4517f2"
  },
  {
   "cell_type": "code",
   "execution_count": 4,
   "outputs": [
    {
     "data": {
      "text/plain": "array([[[[  0],\n         [  0],\n         [  0],\n         ...,\n         [  0],\n         [  0],\n         [  0]],\n\n        [[  0],\n         [  0],\n         [  0],\n         ...,\n         [  0],\n         [  0],\n         [  0]],\n\n        [[  0],\n         [  0],\n         [  0],\n         ...,\n         [  0],\n         [  0],\n         [  0]],\n\n        ...,\n\n        [[  0],\n         [  0],\n         [  0],\n         ...,\n         [  0],\n         [  0],\n         [  0]],\n\n        [[  0],\n         [  0],\n         [  0],\n         ...,\n         [  0],\n         [  0],\n         [  0]],\n\n        [[  0],\n         [  0],\n         [  0],\n         ...,\n         [  0],\n         [  0],\n         [  0]]],\n\n\n       [[[  0],\n         [  0],\n         [  0],\n         ...,\n         [  0],\n         [  0],\n         [  0]],\n\n        [[  0],\n         [  0],\n         [  0],\n         ...,\n         [  0],\n         [  0],\n         [  0]],\n\n        [[  0],\n         [  0],\n         [  0],\n         ...,\n         [  0],\n         [  0],\n         [  0]],\n\n        ...,\n\n        [[  0],\n         [  0],\n         [  0],\n         ...,\n         [  0],\n         [  0],\n         [  0]],\n\n        [[  0],\n         [  0],\n         [  0],\n         ...,\n         [  0],\n         [  0],\n         [  0]],\n\n        [[  0],\n         [  0],\n         [  0],\n         ...,\n         [  0],\n         [  0],\n         [  0]]],\n\n\n       [[[  0],\n         [  0],\n         [  0],\n         ...,\n         [  0],\n         [  0],\n         [  0]],\n\n        [[  0],\n         [  0],\n         [  0],\n         ...,\n         [  0],\n         [  0],\n         [  0]],\n\n        [[  0],\n         [  0],\n         [  0],\n         ...,\n         [  0],\n         [  0],\n         [  0]],\n\n        ...,\n\n        [[  0],\n         [  0],\n         [  0],\n         ...,\n         [  0],\n         [  0],\n         [  0]],\n\n        [[  0],\n         [  0],\n         [  0],\n         ...,\n         [  0],\n         [  0],\n         [  0]],\n\n        [[  0],\n         [  0],\n         [  0],\n         ...,\n         [  0],\n         [  0],\n         [  0]]],\n\n\n       ...,\n\n\n       [[[  0],\n         [  0],\n         [  0],\n         ...,\n         [  0],\n         [  0],\n         [  0]],\n\n        [[  0],\n         [  0],\n         [  0],\n         ...,\n         [  0],\n         [  0],\n         [  0]],\n\n        [[  0],\n         [  0],\n         [  0],\n         ...,\n         [  0],\n         [  0],\n         [  0]],\n\n        ...,\n\n        [[  0],\n         [  0],\n         [  0],\n         ...,\n         [  0],\n         [  0],\n         [  0]],\n\n        [[  0],\n         [  0],\n         [  0],\n         ...,\n         [  0],\n         [  0],\n         [  0]],\n\n        [[  0],\n         [  0],\n         [  0],\n         ...,\n         [  0],\n         [  0],\n         [  0]]],\n\n\n       [[[  0],\n         [  0],\n         [  0],\n         ...,\n         [  0],\n         [  0],\n         [  0]],\n\n        [[  0],\n         [  0],\n         [  0],\n         ...,\n         [  0],\n         [  0],\n         [  0]],\n\n        [[  0],\n         [  0],\n         [  0],\n         ...,\n         [  0],\n         [  0],\n         [  0]],\n\n        ...,\n\n        [[  0],\n         [  0],\n         [159],\n         ...,\n         [  5],\n         [  0],\n         [  0]],\n\n        [[  0],\n         [  0],\n         [  0],\n         ...,\n         [  0],\n         [  0],\n         [  1]],\n\n        [[  0],\n         [  0],\n         [  0],\n         ...,\n         [  0],\n         [  0],\n         [  0]]],\n\n\n       [[[  0],\n         [  0],\n         [  0],\n         ...,\n         [  0],\n         [  0],\n         [  0]],\n\n        [[  0],\n         [  0],\n         [  0],\n         ...,\n         [  0],\n         [  0],\n         [  0]],\n\n        [[  0],\n         [  0],\n         [  0],\n         ...,\n         [  0],\n         [  0],\n         [  0]],\n\n        ...,\n\n        [[  0],\n         [  0],\n         [  0],\n         ...,\n         [  0],\n         [  0],\n         [  0]],\n\n        [[  0],\n         [  0],\n         [  0],\n         ...,\n         [  0],\n         [  0],\n         [  0]],\n\n        [[  0],\n         [  0],\n         [  0],\n         ...,\n         [  0],\n         [  0],\n         [  0]]]], dtype=int64)"
     },
     "execution_count": 4,
     "metadata": {},
     "output_type": "execute_result"
    }
   ],
   "source": [
    "X_train"
   ],
   "metadata": {
    "collapsed": false,
    "ExecuteTime": {
     "end_time": "2023-11-14T00:31:50.009444700Z",
     "start_time": "2023-11-14T00:31:49.987827900Z"
    }
   },
   "id": "1967a9291fc4f793"
  },
  {
   "cell_type": "code",
   "execution_count": 5,
   "outputs": [
    {
     "data": {
      "text/plain": "array([2, 9, 6, ..., 8, 8, 7], dtype=int64)"
     },
     "execution_count": 5,
     "metadata": {},
     "output_type": "execute_result"
    }
   ],
   "source": [
    "y_train"
   ],
   "metadata": {
    "collapsed": false,
    "ExecuteTime": {
     "end_time": "2023-11-14T00:31:50.046443600Z",
     "start_time": "2023-11-14T00:31:50.006443200Z"
    }
   },
   "id": "ac647ea7c70775cd"
  },
  {
   "cell_type": "code",
   "execution_count": 32,
   "outputs": [],
   "source": [
    "class CNN:\n",
    "    def __init__(self, input_size, num_classes, count_convolutional_layer):\n",
    "        self.input_size = input_size\n",
    "        self.num_classes = num_classes\n",
    "        self.count_convolutional_layer = count_convolutional_layer\n",
    "        self.weight_count_convolutional = self.get_weight_count_convolutional()\n",
    "    \n",
    "    def get_weight_count_convolutional(self):\n",
    "        weight_count_convolutional = [[random.uniform(0.3, 0.6), random.uniform(0.3, 0.6), random.uniform(0.3, 0.6)] for i in range(3)]\n",
    "        print(weight_count_convolutional)\n",
    "        return weight_count_convolutional\n",
    "\n",
    "    def convolve2d(self, input_data):\n",
    "        height, width, _ = input_data.shape\n",
    "        filter_height, filter_width = len(self.weight_count_convolutional), len(self.weight_count_convolutional[0])\n",
    "        print('input_data', input_data.shape)\n",
    "        print('weight_count_convolutional', filter_height, filter_width)\n",
    "        print(X[10000000])\n",
    "        for i in range(output_height):\n",
    "            for j in range(output_width):\n",
    "                for k in range(num_filters):\n",
    "                    output_data[i, j, k] = np.sum(\n",
    "        #                 input_data[i:i + filter_height, j:j + filter_width, :] * filters[:, :, :, k])\n",
    "        # return output_data\n",
    "\n",
    "    def train(self, X, y, epoch):\n",
    "        for eph in range(epoch):\n",
    "            for index_training_example, training_example in enumerate(X):\n",
    "                self.convolve2d(training_example)\n",
    "                \n",
    "        \n"
   ],
   "metadata": {
    "collapsed": false,
    "ExecuteTime": {
     "end_time": "2023-11-14T00:45:46.622939900Z",
     "start_time": "2023-11-14T00:45:46.606019900Z"
    }
   },
   "id": "91c16c21ff33d6d0"
  },
  {
   "cell_type": "code",
   "execution_count": 33,
   "outputs": [
    {
     "name": "stdout",
     "output_type": "stream",
     "text": [
      "[[0.5332837399933951, 0.5960225670257442, 0.5856895934741795], [0.49741662708516843, 0.5910869415643729, 0.4886715843627462], [0.5498700502845246, 0.32705063790920325, 0.30430311088491824]]\n",
      "input_data (28, 28, 1)\n",
      "weight_count_convolutional 3 3\n"
     ]
    },
    {
     "ename": "NameError",
     "evalue": "name 'X' is not defined",
     "output_type": "error",
     "traceback": [
      "\u001B[1;31m---------------------------------------------------------------------------\u001B[0m",
      "\u001B[1;31mNameError\u001B[0m                                 Traceback (most recent call last)",
      "Cell \u001B[1;32mIn[33], line 5\u001B[0m\n\u001B[0;32m      1\u001B[0m simple_conv_net \u001B[38;5;241m=\u001B[39m CNN(\n\u001B[0;32m      2\u001B[0m     input_size\u001B[38;5;241m=\u001B[39mX_train[\u001B[38;5;241m0\u001B[39m]\u001B[38;5;241m.\u001B[39mshape[\u001B[38;5;241m0\u001B[39m], \n\u001B[0;32m      3\u001B[0m     num_classes\u001B[38;5;241m=\u001B[39m\u001B[38;5;28mlen\u001B[39m(np\u001B[38;5;241m.\u001B[39munique(y_train)),\n\u001B[0;32m      4\u001B[0m     count_convolutional_layer \u001B[38;5;241m=\u001B[39m \u001B[38;5;241m1\u001B[39m)\n\u001B[1;32m----> 5\u001B[0m \u001B[43msimple_conv_net\u001B[49m\u001B[38;5;241;43m.\u001B[39;49m\u001B[43mtrain\u001B[49m\u001B[43m(\u001B[49m\u001B[43mX\u001B[49m\u001B[38;5;241;43m=\u001B[39;49m\u001B[43mX_train\u001B[49m\u001B[43m,\u001B[49m\u001B[43m \u001B[49m\u001B[43my\u001B[49m\u001B[38;5;241;43m=\u001B[39;49m\u001B[43my_train\u001B[49m\u001B[43m,\u001B[49m\u001B[43m \u001B[49m\u001B[43mepoch\u001B[49m\u001B[38;5;241;43m=\u001B[39;49m\u001B[38;5;241;43m1\u001B[39;49m\u001B[43m)\u001B[49m\n",
      "Cell \u001B[1;32mIn[32], line 34\u001B[0m, in \u001B[0;36mCNN.train\u001B[1;34m(self, X, y, epoch)\u001B[0m\n\u001B[0;32m     32\u001B[0m \u001B[38;5;28;01mfor\u001B[39;00m eph \u001B[38;5;129;01min\u001B[39;00m \u001B[38;5;28mrange\u001B[39m(epoch):\n\u001B[0;32m     33\u001B[0m     \u001B[38;5;28;01mfor\u001B[39;00m index_training_example, training_example \u001B[38;5;129;01min\u001B[39;00m \u001B[38;5;28menumerate\u001B[39m(X):\n\u001B[1;32m---> 34\u001B[0m         \u001B[38;5;28;43mself\u001B[39;49m\u001B[38;5;241;43m.\u001B[39;49m\u001B[43mconvolve2d\u001B[49m\u001B[43m(\u001B[49m\u001B[43mtraining_example\u001B[49m\u001B[43m,\u001B[49m\u001B[43m \u001B[49m\u001B[43m[\u001B[49m\u001B[38;5;241;43m3\u001B[39;49m\u001B[43m,\u001B[49m\u001B[43m \u001B[49m\u001B[38;5;241;43m3\u001B[39;49m\u001B[43m,\u001B[49m\u001B[43m \u001B[49m\u001B[38;5;241;43m1\u001B[39;49m\u001B[43m,\u001B[49m\u001B[43m \u001B[49m\u001B[38;5;241;43m32\u001B[39;49m\u001B[43m]\u001B[49m\u001B[43m)\u001B[49m\n",
      "Cell \u001B[1;32mIn[32], line 18\u001B[0m, in \u001B[0;36mCNN.convolve2d\u001B[1;34m(self, input_data, filters)\u001B[0m\n\u001B[0;32m     16\u001B[0m \u001B[38;5;28mprint\u001B[39m(\u001B[38;5;124m'\u001B[39m\u001B[38;5;124minput_data\u001B[39m\u001B[38;5;124m'\u001B[39m, input_data\u001B[38;5;241m.\u001B[39mshape)\n\u001B[0;32m     17\u001B[0m \u001B[38;5;28mprint\u001B[39m(\u001B[38;5;124m'\u001B[39m\u001B[38;5;124mweight_count_convolutional\u001B[39m\u001B[38;5;124m'\u001B[39m, filter_height, filter_width)\n\u001B[1;32m---> 18\u001B[0m \u001B[38;5;28mprint\u001B[39m(\u001B[43mX\u001B[49m[\u001B[38;5;241m10000000\u001B[39m])\n",
      "\u001B[1;31mNameError\u001B[0m: name 'X' is not defined"
     ]
    }
   ],
   "source": [
    "simple_conv_net = CNN(\n",
    "    input_size=X_train[0].shape[0], \n",
    "    num_classes=len(np.unique(y_train)),\n",
    "    count_convolutional_layer = 1)\n",
    "simple_conv_net.train(X=X_train, y=y_train, epoch=1)"
   ],
   "metadata": {
    "collapsed": false,
    "ExecuteTime": {
     "end_time": "2023-11-14T00:45:47.148019800Z",
     "start_time": "2023-11-14T00:45:47.103017700Z"
    }
   },
   "id": "ade6a90a7ec2d328"
  },
  {
   "cell_type": "code",
   "execution_count": null,
   "outputs": [],
   "source": [],
   "metadata": {
    "collapsed": false,
    "ExecuteTime": {
     "end_time": "2023-11-14T00:31:50.533440200Z",
     "start_time": "2023-11-14T00:31:50.529442200Z"
    }
   },
   "id": "a8c14371097f64fc"
  }
 ],
 "metadata": {
  "kernelspec": {
   "display_name": "Python 3 (ipykernel)",
   "language": "python",
   "name": "python3"
  },
  "language_info": {
   "codemirror_mode": {
    "name": "ipython",
    "version": 3
   },
   "file_extension": ".py",
   "mimetype": "text/x-python",
   "name": "python",
   "nbconvert_exporter": "python",
   "pygments_lexer": "ipython3",
   "version": "3.10.11"
  }
 },
 "nbformat": 4,
 "nbformat_minor": 5
}
