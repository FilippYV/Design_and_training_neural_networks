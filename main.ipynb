{
 "cells": [
  {
   "cell_type": "code",
   "execution_count": 20,
   "metadata": {
    "collapsed": true,
    "ExecuteTime": {
     "end_time": "2023-09-12T10:01:44.076462300Z",
     "start_time": "2023-09-12T10:01:44.069947400Z"
    }
   },
   "outputs": [
    {
     "name": "stdout",
     "output_type": "stream",
     "text": [
      "0.7930125009645342\n"
     ]
    }
   ],
   "source": [
    "import random\n",
    "print(random.random())"
   ]
  },
  {
   "cell_type": "code",
   "execution_count": null,
   "outputs": [],
   "source": [
    "# pip3 freeze > requirements.txt  # Python3\n",
    "# pip freeze > requirements.txt  # Python2"
   ],
   "metadata": {
    "collapsed": false
   }
  },
  {
   "cell_type": "code",
   "execution_count": null,
   "outputs": [],
   "source": [
    "ПРИЛОЖЕНИЯ\n",
    "Приложение А – Листинг кода для обучения Хебба\n",
    "Приложение Б – Листинг кода для дельта правила\n",
    "Приложение В – Листинг кода обратного распространения ошибки\n",
    "Приложение Г – Листинг кода радиально-базисных функций\n",
    "Приложение Д – Листинг кода карты Кохонена\n",
    "Приложение E – Листинг кода встречного распространения\n",
    "Приложение Ж – Листинг кода рекуррентные сети\n",
    "Приложение З – Листинг кода сверточные сети\n",
    "Приложение И – Листинг кода трансформер\n",
    "Приложение К - Листинг кода графовые нейронные сети"
   ],
   "metadata": {
    "collapsed": false
   }
  }
 ],
 "metadata": {
  "kernelspec": {
   "display_name": "Python 3",
   "language": "python",
   "name": "python3"
  },
  "language_info": {
   "codemirror_mode": {
    "name": "ipython",
    "version": 2
   },
   "file_extension": ".py",
   "mimetype": "text/x-python",
   "name": "python",
   "nbconvert_exporter": "python",
   "pygments_lexer": "ipython2",
   "version": "2.7.6"
  }
 },
 "nbformat": 4,
 "nbformat_minor": 0
}
